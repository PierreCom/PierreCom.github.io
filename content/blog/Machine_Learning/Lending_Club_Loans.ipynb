{
 "cells": [
  {
   "cell_type": "markdown",
   "metadata": {},
   "source": [
    "# Lending Club Project\n",
    "\n",
    "Lending Club is a marketplace for personal loans that matches borrowers who are seeking a loan with investors looking to lend money and make a return. \n",
    "\n",
    "The data set contains approved loans from 2007 to 2011.\n",
    "\n",
    "_I'll predict if a borrower will pay off their loan on time or no ?_"
   ]
  },
  {
   "cell_type": "markdown",
   "metadata": {},
   "source": [
    "# 1) Data Cleaning"
   ]
  },
  {
   "cell_type": "code",
   "execution_count": 1,
   "metadata": {
    "collapsed": false
   },
   "outputs": [
    {
     "name": "stderr",
     "output_type": "stream",
     "text": [
      "/Users/comalada/anaconda/lib/python3.5/site-packages/IPython/core/interactiveshell.py:2717: DtypeWarning: Columns (0,47) have mixed types. Specify dtype option on import or set low_memory=False.\n",
      "  interactivity=interactivity, compiler=compiler, result=result)\n"
     ]
    }
   ],
   "source": [
    "import pandas as pd\n",
    "\n",
    "# Remove the First line\n",
    "loans_2007 = pd.read_csv('LoanStats3a.csv', skiprows=1)\n",
    "# Remove all columns containing more than 50% missing values\n",
    "half_count = len(loans_2007) / 2\n",
    "loans_2007 = loans_2007.dropna(thresh=half_count, axis=1)\n",
    "# Remove useless columns\n",
    "loans_2007 = loans_2007.drop(['desc', 'url'],axis=1)\n",
    "loans_2007.to_csv('loans_2007.csv', index=False)"
   ]
  },
  {
   "cell_type": "code",
   "execution_count": 2,
   "metadata": {
    "collapsed": false
   },
   "outputs": [
    {
     "name": "stdout",
     "output_type": "stream",
     "text": [
      "        id  member_id  loan_amnt  funded_amnt  funded_amnt_inv        term  \\\n",
      "0  1077501  1296599.0     5000.0       5000.0           4975.0   36 months   \n",
      "1  1077430  1314167.0     2500.0       2500.0           2500.0   60 months   \n",
      "2  1077175  1313524.0     2400.0       2400.0           2400.0   36 months   \n",
      "3  1076863  1277178.0    10000.0      10000.0          10000.0   36 months   \n",
      "4  1075358  1311748.0     3000.0       3000.0           3000.0   60 months   \n",
      "\n",
      "  int_rate  installment grade sub_grade    ...    last_pymnt_amnt  \\\n",
      "0   10.65%       162.87     B        B2    ...             171.62   \n",
      "1   15.27%        59.83     C        C4    ...             119.66   \n",
      "2   15.96%        84.33     C        C5    ...             649.91   \n",
      "3   13.49%       339.31     C        C1    ...             357.48   \n",
      "4   12.69%        67.79     B        B5    ...              67.79   \n",
      "\n",
      "  last_credit_pull_d collections_12_mths_ex_med  policy_code application_type  \\\n",
      "0           Nov-2016                        0.0          1.0       INDIVIDUAL   \n",
      "1           Oct-2016                        0.0          1.0       INDIVIDUAL   \n",
      "2           Nov-2016                        0.0          1.0       INDIVIDUAL   \n",
      "3           Apr-2016                        0.0          1.0       INDIVIDUAL   \n",
      "4           Nov-2016                        0.0          1.0       INDIVIDUAL   \n",
      "\n",
      "  acc_now_delinq chargeoff_within_12_mths delinq_amnt pub_rec_bankruptcies  \\\n",
      "0            0.0                      0.0         0.0                  0.0   \n",
      "1            0.0                      0.0         0.0                  0.0   \n",
      "2            0.0                      0.0         0.0                  0.0   \n",
      "3            0.0                      0.0         0.0                  0.0   \n",
      "4            0.0                      0.0         0.0                  0.0   \n",
      "\n",
      "  tax_liens  \n",
      "0       0.0  \n",
      "1       0.0  \n",
      "2       0.0  \n",
      "3       0.0  \n",
      "4       0.0  \n",
      "\n",
      "[5 rows x 52 columns]\n",
      "52\n"
     ]
    },
    {
     "name": "stderr",
     "output_type": "stream",
     "text": [
      "/Users/comalada/anaconda/lib/python3.5/site-packages/IPython/core/interactiveshell.py:2717: DtypeWarning: Columns (0) have mixed types. Specify dtype option on import or set low_memory=False.\n",
      "  interactivity=interactivity, compiler=compiler, result=result)\n"
     ]
    }
   ],
   "source": [
    "loans_2007 = pd.read_csv('loans_2007.csv')\n",
    "print(loans_2007.head())\n",
    "print(len(loans_2007.columns))"
   ]
  },
  {
   "cell_type": "markdown",
   "metadata": {},
   "source": [
    "### Remove useless columns and columns which leak information from the future."
   ]
  },
  {
   "cell_type": "code",
   "execution_count": 4,
   "metadata": {
    "collapsed": false
   },
   "outputs": [],
   "source": [
    "loans_2007 = loans_2007.drop([\"id\", \"member_id\", \"funded_amnt\", \"funded_amnt_inv\",\n",
    "                              \"grade\", \"sub_grade\", \"emp_title\", \"issue_d\", \"zip_code\",\n",
    "                              \"out_prncp\", \"out_prncp_inv\", \"total_pymnt\", \"total_pymnt_inv\",\n",
    "                              \"total_rec_prncp\", \"total_rec_int\", \"total_rec_late_fee\", \"recoveries\",\n",
    "                              \"collection_recovery_fee\", \"last_pymnt_d\", \"last_pymnt_amnt\"], axis = 1)"
   ]
  },
  {
   "cell_type": "code",
   "execution_count": 5,
   "metadata": {
    "collapsed": false
   },
   "outputs": [
    {
     "name": "stdout",
     "output_type": "stream",
     "text": [
      "32\n"
     ]
    }
   ],
   "source": [
    "print(len(loans_2007.columns))"
   ]
  },
  {
   "cell_type": "markdown",
   "metadata": {},
   "source": [
    "We passed from 52 columns to 32 columns to build the model."
   ]
  },
  {
   "cell_type": "markdown",
   "metadata": {},
   "source": [
    "### Explore the Different values in the Target column"
   ]
  },
  {
   "cell_type": "code",
   "execution_count": 106,
   "metadata": {
    "collapsed": false
   },
   "outputs": [
    {
     "name": "stdout",
     "output_type": "stream",
     "text": [
      "Fully Paid                                             33902\n",
      "Charged Off                                             5658\n",
      "Does not meet the credit policy. Status:Fully Paid      1988\n",
      "Does not meet the credit policy. Status:Charged Off      761\n",
      "Current                                                  201\n",
      "Late (31-120 days)                                        10\n",
      "In Grace Period                                            9\n",
      "Late (16-30 days)                                          5\n",
      "Default                                                    1\n",
      "Name: loan_status, dtype: int64\n"
     ]
    }
   ],
   "source": [
    "print(loans_2007[\"loan_status\"].value_counts())"
   ]
  },
  {
   "cell_type": "markdown",
   "metadata": {},
   "source": [
    "### Filter target column and replace target column by categorical values\n",
    "\"Fully Paid\" and \"Charged Off\" are the targets. \n",
    "\n",
    "\"Charged Off\" means the borrower can't refund its loan. We can notice there is class imbalance between the two class we want to predict."
   ]
  },
  {
   "cell_type": "code",
   "execution_count": 6,
   "metadata": {
    "collapsed": false
   },
   "outputs": [
    {
     "name": "stdout",
     "output_type": "stream",
     "text": [
      "42538\n",
      "39560\n"
     ]
    },
    {
     "data": {
      "text/plain": [
       "0    1\n",
       "1    0\n",
       "2    1\n",
       "3    1\n",
       "5    1\n",
       "Name: loan_status, dtype: int64"
      ]
     },
     "execution_count": 6,
     "metadata": {},
     "output_type": "execute_result"
    }
   ],
   "source": [
    "print(len(loans_2007))\n",
    "# We just take \"Fully Paid\" and \"Charged Off\" columns\n",
    "loans_2007 = loans_2007[(loans_2007[\"loan_status\"] == \"Fully Paid\") | (loans_2007[\"loan_status\"] == \"Charged Off\")]\n",
    "\n",
    "print(len(loans_2007))\n",
    "\n",
    "mapping_dict = {\n",
    "    \"loan_status\": {\n",
    "        \"Fully Paid\": 1,\n",
    "        \"Charged Off\": 0\n",
    "\n",
    "    }\n",
    "}\n",
    "loans_2007 = loans_2007.replace(mapping_dict)\n",
    "loans_2007[\"loan_status\"].head()"
   ]
  },
  {
   "cell_type": "code",
   "execution_count": 108,
   "metadata": {
    "collapsed": false
   },
   "outputs": [
    {
     "data": {
      "text/html": [
       "<div>\n",
       "<table border=\"1\" class=\"dataframe\">\n",
       "  <thead>\n",
       "    <tr style=\"text-align: right;\">\n",
       "      <th></th>\n",
       "      <th>loan_amnt</th>\n",
       "      <th>term</th>\n",
       "      <th>int_rate</th>\n",
       "      <th>installment</th>\n",
       "      <th>emp_length</th>\n",
       "      <th>home_ownership</th>\n",
       "      <th>annual_inc</th>\n",
       "      <th>verification_status</th>\n",
       "      <th>loan_status</th>\n",
       "      <th>pymnt_plan</th>\n",
       "      <th>...</th>\n",
       "      <th>initial_list_status</th>\n",
       "      <th>last_credit_pull_d</th>\n",
       "      <th>collections_12_mths_ex_med</th>\n",
       "      <th>policy_code</th>\n",
       "      <th>application_type</th>\n",
       "      <th>acc_now_delinq</th>\n",
       "      <th>chargeoff_within_12_mths</th>\n",
       "      <th>delinq_amnt</th>\n",
       "      <th>pub_rec_bankruptcies</th>\n",
       "      <th>tax_liens</th>\n",
       "    </tr>\n",
       "  </thead>\n",
       "  <tbody>\n",
       "    <tr>\n",
       "      <th>0</th>\n",
       "      <td>5000.0</td>\n",
       "      <td>36 months</td>\n",
       "      <td>10.65%</td>\n",
       "      <td>162.87</td>\n",
       "      <td>10+ years</td>\n",
       "      <td>RENT</td>\n",
       "      <td>24000.0</td>\n",
       "      <td>Verified</td>\n",
       "      <td>1</td>\n",
       "      <td>n</td>\n",
       "      <td>...</td>\n",
       "      <td>f</td>\n",
       "      <td>Nov-2016</td>\n",
       "      <td>0.0</td>\n",
       "      <td>1.0</td>\n",
       "      <td>INDIVIDUAL</td>\n",
       "      <td>0.0</td>\n",
       "      <td>0.0</td>\n",
       "      <td>0.0</td>\n",
       "      <td>0.0</td>\n",
       "      <td>0.0</td>\n",
       "    </tr>\n",
       "    <tr>\n",
       "      <th>1</th>\n",
       "      <td>2500.0</td>\n",
       "      <td>60 months</td>\n",
       "      <td>15.27%</td>\n",
       "      <td>59.83</td>\n",
       "      <td>&lt; 1 year</td>\n",
       "      <td>RENT</td>\n",
       "      <td>30000.0</td>\n",
       "      <td>Source Verified</td>\n",
       "      <td>0</td>\n",
       "      <td>n</td>\n",
       "      <td>...</td>\n",
       "      <td>f</td>\n",
       "      <td>Oct-2016</td>\n",
       "      <td>0.0</td>\n",
       "      <td>1.0</td>\n",
       "      <td>INDIVIDUAL</td>\n",
       "      <td>0.0</td>\n",
       "      <td>0.0</td>\n",
       "      <td>0.0</td>\n",
       "      <td>0.0</td>\n",
       "      <td>0.0</td>\n",
       "    </tr>\n",
       "    <tr>\n",
       "      <th>2</th>\n",
       "      <td>2400.0</td>\n",
       "      <td>36 months</td>\n",
       "      <td>15.96%</td>\n",
       "      <td>84.33</td>\n",
       "      <td>10+ years</td>\n",
       "      <td>RENT</td>\n",
       "      <td>12252.0</td>\n",
       "      <td>Not Verified</td>\n",
       "      <td>1</td>\n",
       "      <td>n</td>\n",
       "      <td>...</td>\n",
       "      <td>f</td>\n",
       "      <td>Nov-2016</td>\n",
       "      <td>0.0</td>\n",
       "      <td>1.0</td>\n",
       "      <td>INDIVIDUAL</td>\n",
       "      <td>0.0</td>\n",
       "      <td>0.0</td>\n",
       "      <td>0.0</td>\n",
       "      <td>0.0</td>\n",
       "      <td>0.0</td>\n",
       "    </tr>\n",
       "    <tr>\n",
       "      <th>3</th>\n",
       "      <td>10000.0</td>\n",
       "      <td>36 months</td>\n",
       "      <td>13.49%</td>\n",
       "      <td>339.31</td>\n",
       "      <td>10+ years</td>\n",
       "      <td>RENT</td>\n",
       "      <td>49200.0</td>\n",
       "      <td>Source Verified</td>\n",
       "      <td>1</td>\n",
       "      <td>n</td>\n",
       "      <td>...</td>\n",
       "      <td>f</td>\n",
       "      <td>Apr-2016</td>\n",
       "      <td>0.0</td>\n",
       "      <td>1.0</td>\n",
       "      <td>INDIVIDUAL</td>\n",
       "      <td>0.0</td>\n",
       "      <td>0.0</td>\n",
       "      <td>0.0</td>\n",
       "      <td>0.0</td>\n",
       "      <td>0.0</td>\n",
       "    </tr>\n",
       "    <tr>\n",
       "      <th>5</th>\n",
       "      <td>5000.0</td>\n",
       "      <td>36 months</td>\n",
       "      <td>7.90%</td>\n",
       "      <td>156.46</td>\n",
       "      <td>3 years</td>\n",
       "      <td>RENT</td>\n",
       "      <td>36000.0</td>\n",
       "      <td>Source Verified</td>\n",
       "      <td>1</td>\n",
       "      <td>n</td>\n",
       "      <td>...</td>\n",
       "      <td>f</td>\n",
       "      <td>Jan-2016</td>\n",
       "      <td>0.0</td>\n",
       "      <td>1.0</td>\n",
       "      <td>INDIVIDUAL</td>\n",
       "      <td>0.0</td>\n",
       "      <td>0.0</td>\n",
       "      <td>0.0</td>\n",
       "      <td>0.0</td>\n",
       "      <td>0.0</td>\n",
       "    </tr>\n",
       "  </tbody>\n",
       "</table>\n",
       "<p>5 rows × 32 columns</p>\n",
       "</div>"
      ],
      "text/plain": [
       "   loan_amnt        term int_rate  installment emp_length home_ownership  \\\n",
       "0     5000.0   36 months   10.65%       162.87  10+ years           RENT   \n",
       "1     2500.0   60 months   15.27%        59.83   < 1 year           RENT   \n",
       "2     2400.0   36 months   15.96%        84.33  10+ years           RENT   \n",
       "3    10000.0   36 months   13.49%       339.31  10+ years           RENT   \n",
       "5     5000.0   36 months    7.90%       156.46    3 years           RENT   \n",
       "\n",
       "   annual_inc verification_status  loan_status pymnt_plan    ...      \\\n",
       "0     24000.0            Verified            1          n    ...       \n",
       "1     30000.0     Source Verified            0          n    ...       \n",
       "2     12252.0        Not Verified            1          n    ...       \n",
       "3     49200.0     Source Verified            1          n    ...       \n",
       "5     36000.0     Source Verified            1          n    ...       \n",
       "\n",
       "  initial_list_status last_credit_pull_d collections_12_mths_ex_med  \\\n",
       "0                   f           Nov-2016                        0.0   \n",
       "1                   f           Oct-2016                        0.0   \n",
       "2                   f           Nov-2016                        0.0   \n",
       "3                   f           Apr-2016                        0.0   \n",
       "5                   f           Jan-2016                        0.0   \n",
       "\n",
       "   policy_code  application_type acc_now_delinq  chargeoff_within_12_mths  \\\n",
       "0          1.0        INDIVIDUAL            0.0                       0.0   \n",
       "1          1.0        INDIVIDUAL            0.0                       0.0   \n",
       "2          1.0        INDIVIDUAL            0.0                       0.0   \n",
       "3          1.0        INDIVIDUAL            0.0                       0.0   \n",
       "5          1.0        INDIVIDUAL            0.0                       0.0   \n",
       "\n",
       "   delinq_amnt  pub_rec_bankruptcies  tax_liens  \n",
       "0          0.0                   0.0        0.0  \n",
       "1          0.0                   0.0        0.0  \n",
       "2          0.0                   0.0        0.0  \n",
       "3          0.0                   0.0        0.0  \n",
       "5          0.0                   0.0        0.0  \n",
       "\n",
       "[5 rows x 32 columns]"
      ]
     },
     "execution_count": 108,
     "metadata": {},
     "output_type": "execute_result"
    }
   ],
   "source": [
    "loans_2007.head()"
   ]
  },
  {
   "cell_type": "markdown",
   "metadata": {},
   "source": [
    "### Remove single columns value"
   ]
  },
  {
   "cell_type": "code",
   "execution_count": 7,
   "metadata": {
    "collapsed": false
   },
   "outputs": [
    {
     "name": "stdout",
     "output_type": "stream",
     "text": [
      "8\n"
     ]
    }
   ],
   "source": [
    "drop_columns = []\n",
    "\n",
    "for col in loans_2007.columns:\n",
    "    # unique returns also counts the Pandas missing value object nan as a value, we then should use dropna before\n",
    "    length = len(loans_2007[col].dropna().unique())\n",
    "    \n",
    "    if length == 1:\n",
    "        drop_columns.append(col)\n",
    "    \n",
    "loans_2007 = loans_2007.drop(drop_columns , axis = 1)\n",
    "\n",
    "print(len(drop_columns))\n"
   ]
  },
  {
   "cell_type": "code",
   "execution_count": 8,
   "metadata": {
    "collapsed": true
   },
   "outputs": [],
   "source": [
    "loans_2007.to_csv('filtered_loans_2007.csv', index=False)"
   ]
  },
  {
   "cell_type": "markdown",
   "metadata": {},
   "source": [
    "We removed 8 columns which only contained unique values."
   ]
  },
  {
   "cell_type": "markdown",
   "metadata": {},
   "source": [
    "# 2) Preparing Features"
   ]
  },
  {
   "cell_type": "markdown",
   "metadata": {},
   "source": [
    "### Calculate number of Null values"
   ]
  },
  {
   "cell_type": "code",
   "execution_count": 9,
   "metadata": {
    "collapsed": false
   },
   "outputs": [
    {
     "name": "stdout",
     "output_type": "stream",
     "text": [
      "loan_amnt                 0\n",
      "term                      0\n",
      "int_rate                  0\n",
      "installment               0\n",
      "emp_length                0\n",
      "home_ownership            0\n",
      "annual_inc                0\n",
      "verification_status       0\n",
      "loan_status               0\n",
      "pymnt_plan                0\n",
      "purpose                   0\n",
      "title                    10\n",
      "addr_state                0\n",
      "dti                       0\n",
      "delinq_2yrs               0\n",
      "earliest_cr_line          0\n",
      "inq_last_6mths            0\n",
      "open_acc                  0\n",
      "pub_rec                   0\n",
      "revol_bal                 0\n",
      "revol_util               50\n",
      "total_acc                 0\n",
      "last_credit_pull_d        2\n",
      "pub_rec_bankruptcies    697\n",
      "dtype: int64\n"
     ]
    }
   ],
   "source": [
    "loans = pd.read_csv('filtered_loans_2007.csv')\n",
    "null_counts = loans.isnull().sum()\n",
    "print(null_counts)"
   ]
  },
  {
   "cell_type": "markdown",
   "metadata": {},
   "source": [
    "### Handling Missing Values\n",
    "We'll remove rows with null values and columns with more than 1% of missing values."
   ]
  },
  {
   "cell_type": "code",
   "execution_count": 10,
   "metadata": {
    "collapsed": false
   },
   "outputs": [
    {
     "name": "stdout",
     "output_type": "stream",
     "text": [
      "object     12\n",
      "float64    10\n",
      "int64       1\n",
      "dtype: int64\n"
     ]
    }
   ],
   "source": [
    "loans = loans.drop([\"pub_rec_bankruptcies\"], axis = 1)\n",
    "      \n",
    "loans = loans.dropna(axis = 0)\n",
    "print(loans.dtypes.value_counts())\n",
    "\n",
    "# ReIndexing after removing missing values\n",
    "loans = loans.reset_index(drop=True)"
   ]
  },
  {
   "cell_type": "markdown",
   "metadata": {},
   "source": [
    "### Explore text columns"
   ]
  },
  {
   "cell_type": "code",
   "execution_count": 37,
   "metadata": {
    "collapsed": false
   },
   "outputs": [
    {
     "name": "stdout",
     "output_type": "stream",
     "text": [
      "         term int_rate emp_length home_ownership verification_status  \\\n",
      "0   36 months   10.65%  10+ years           RENT            Verified   \n",
      "\n",
      "  pymnt_plan      purpose     title addr_state earliest_cr_line revol_util  \\\n",
      "0          n  credit_card  Computer         AZ         Jan-1985      83.7%   \n",
      "\n",
      "  last_credit_pull_d  \n",
      "0           Nov-2016  \n"
     ]
    }
   ],
   "source": [
    "object_columns_df = loans.select_dtypes(include=['object'])\n",
    "print(object_columns_df.head(1))"
   ]
  },
  {
   "cell_type": "markdown",
   "metadata": {},
   "source": [
    "--> Some columns seems to be categorical, we need to explore them with the number of unique values"
   ]
  },
  {
   "cell_type": "markdown",
   "metadata": {},
   "source": [
    "### Explore categorical columns"
   ]
  },
  {
   "cell_type": "code",
   "execution_count": 113,
   "metadata": {
    "collapsed": false
   },
   "outputs": [
    {
     "name": "stdout",
     "output_type": "stream",
     "text": [
      "RENT        18780\n",
      "MORTGAGE    17574\n",
      "OWN          3045\n",
      "OTHER          96\n",
      "NONE            3\n",
      "Name: home_ownership, dtype: int64\n",
      "Not Verified       16856\n",
      "Verified           12705\n",
      "Source Verified     9937\n",
      "Name: verification_status, dtype: int64\n",
      "10+ years    8821\n",
      "< 1 year     4563\n",
      "2 years      4371\n",
      "3 years      4074\n",
      "4 years      3409\n",
      "5 years      3270\n",
      "1 year       3227\n",
      "6 years      2212\n",
      "7 years      1756\n",
      "8 years      1472\n",
      "9 years      1254\n",
      "n/a          1069\n",
      "Name: emp_length, dtype: int64\n",
      " 36 months    29041\n",
      " 60 months    10457\n",
      "Name: term, dtype: int64\n",
      "CA    7070\n",
      "NY    3788\n",
      "FL    2856\n",
      "TX    2714\n",
      "NJ    1838\n",
      "IL    1517\n",
      "PA    1504\n",
      "VA    1400\n",
      "GA    1393\n",
      "MA    1336\n",
      "OH    1208\n",
      "MD    1049\n",
      "AZ     874\n",
      "WA     834\n",
      "CO     786\n",
      "NC     780\n",
      "CT     747\n",
      "MI     722\n",
      "MO     682\n",
      "MN     611\n",
      "NV     492\n",
      "SC     470\n",
      "WI     453\n",
      "AL     446\n",
      "OR     445\n",
      "LA     435\n",
      "KY     325\n",
      "OK     298\n",
      "KS     269\n",
      "UT     256\n",
      "AR     243\n",
      "DC     211\n",
      "RI     198\n",
      "NM     188\n",
      "WV     176\n",
      "HI     172\n",
      "NH     172\n",
      "DE     113\n",
      "MT      84\n",
      "WY      83\n",
      "AK      79\n",
      "SD      63\n",
      "VT      54\n",
      "MS      19\n",
      "TN      17\n",
      "IN       9\n",
      "ID       6\n",
      "IA       5\n",
      "NE       5\n",
      "ME       3\n",
      "Name: addr_state, dtype: int64\n"
     ]
    }
   ],
   "source": [
    "cols = ['home_ownership', 'verification_status', 'emp_length', 'term', 'addr_state']\n",
    "\n",
    "for column in cols:\n",
    "    print(loans[column].value_counts())"
   ]
  },
  {
   "cell_type": "markdown",
   "metadata": {},
   "source": [
    "These 5 columns contain categorical values"
   ]
  },
  {
   "cell_type": "markdown",
   "metadata": {},
   "source": [
    "### Explore 'Purpose' and 'Title' columns which look similar"
   ]
  },
  {
   "cell_type": "code",
   "execution_count": 114,
   "metadata": {
    "collapsed": false
   },
   "outputs": [
    {
     "name": "stdout",
     "output_type": "stream",
     "text": [
      "debt_consolidation    18533\n",
      "credit_card            5099\n",
      "other                  3963\n",
      "home_improvement       2965\n",
      "major_purchase         2181\n",
      "small_business         1815\n",
      "car                    1544\n",
      "wedding                 945\n",
      "medical                 692\n",
      "moving                  581\n",
      "vacation                379\n",
      "house                   378\n",
      "educational             320\n",
      "renewable_energy        103\n",
      "Name: purpose, dtype: int64\n",
      "Debt Consolidation                         2168\n",
      "Debt Consolidation Loan                    1706\n",
      "Personal Loan                               658\n",
      "Consolidation                               509\n",
      "debt consolidation                          502\n",
      "Credit Card Consolidation                   356\n",
      "Home Improvement                            354\n",
      "Debt consolidation                          333\n",
      "Small Business Loan                         322\n",
      "Credit Card Loan                            313\n",
      "Personal                                    308\n",
      "Consolidation Loan                          255\n",
      "Home Improvement Loan                       246\n",
      "personal loan                               234\n",
      "personal                                    220\n",
      "Loan                                        212\n",
      "Wedding Loan                                209\n",
      "consolidation                               200\n",
      "Car Loan                                    200\n",
      "Other Loan                                  190\n",
      "Credit Card Payoff                          155\n",
      "Wedding                                     152\n",
      "Major Purchase Loan                         144\n",
      "Credit Card Refinance                       143\n",
      "Consolidate                                 127\n",
      "Medical                                     122\n",
      "Credit Card                                 117\n",
      "home improvement                            111\n",
      "My Loan                                      94\n",
      "Credit Cards                                 93\n",
      "                                           ... \n",
      "DebtConsolidationn                            1\n",
      " Freedom                                      1\n",
      "Credit Card Consolidation Loan - SEG          1\n",
      "SOLAR PV                                      1\n",
      "Pay on Credit card                            1\n",
      "To pay off balloon payments due               1\n",
      "Paying off the debt                           1\n",
      "Payoff ING PLOC                               1\n",
      "Josh CC Loan                                  1\n",
      "House payoff                                  1\n",
      "Taking care of Business                       1\n",
      "Gluten Free Bakery in ideal town for it       1\n",
      "Startup Money for Small Business              1\n",
      "FundToFinanceCar                              1\n",
      "getting ready for Baby                        1\n",
      "Dougs Wedding Loan                            1\n",
      "d rock                                        1\n",
      "LC Loan 2                                     1\n",
      "swimming pool repair                          1\n",
      "engagement                                    1\n",
      "Cut the credit cards Loan                     1\n",
      "vinman                                        1\n",
      "working hard to get out of debt               1\n",
      "consolidate the rest of my debt               1\n",
      "Medical/Vacation                              1\n",
      "2BDebtFree                                    1\n",
      "Paying Off High Interest Credit Cards!        1\n",
      "Baby on the way!                              1\n",
      "cart loan                                     1\n",
      "Consolidaton                                  1\n",
      "Name: title, dtype: int64\n"
     ]
    }
   ],
   "source": [
    "print(loans[\"purpose\"].value_counts())\n",
    "print(loans[\"title\"].value_counts())"
   ]
  },
  {
   "cell_type": "markdown",
   "metadata": {},
   "source": [
    "### Convert features to Categorical columns\n",
    "\n",
    "__home_ownership, verification_status, emp_length, and term columns each__ contain a few discrete categorical values.\n",
    "We'll use dummy variables for columns containing categorical values, it split a column into separate binary columns. For __int_rate and revol_util__ columns we need to remove the '%' and convert to float value.  \n",
    "\n",
    "Between __purpose and title__ columns we select the purpose column because it contain less categorical values.\n",
    "\n",
    "For the __emp_length__ column we need to do some data engineering because it contain ordered values.\n",
    "\n",
    "Columns containing date values would require a good amount of feature engineering for them to be potentially useful, so they need to be removed: __earliest_cr_line, last_credit_pull_d__\n",
    "\n",
    "Finally __addr_state__ contain too many discrete values."
   ]
  },
  {
   "cell_type": "code",
   "execution_count": 11,
   "metadata": {
    "collapsed": false
   },
   "outputs": [
    {
     "data": {
      "text/html": [
       "<div>\n",
       "<table border=\"1\" class=\"dataframe\">\n",
       "  <thead>\n",
       "    <tr style=\"text-align: right;\">\n",
       "      <th></th>\n",
       "      <th>loan_amnt</th>\n",
       "      <th>term</th>\n",
       "      <th>int_rate</th>\n",
       "      <th>installment</th>\n",
       "      <th>emp_length</th>\n",
       "      <th>home_ownership</th>\n",
       "      <th>annual_inc</th>\n",
       "      <th>verification_status</th>\n",
       "      <th>loan_status</th>\n",
       "      <th>purpose</th>\n",
       "      <th>dti</th>\n",
       "      <th>delinq_2yrs</th>\n",
       "      <th>inq_last_6mths</th>\n",
       "      <th>open_acc</th>\n",
       "      <th>pub_rec</th>\n",
       "      <th>revol_bal</th>\n",
       "      <th>revol_util</th>\n",
       "      <th>total_acc</th>\n",
       "    </tr>\n",
       "  </thead>\n",
       "  <tbody>\n",
       "    <tr>\n",
       "      <th>0</th>\n",
       "      <td>5000.0</td>\n",
       "      <td>36 months</td>\n",
       "      <td>10.65</td>\n",
       "      <td>162.87</td>\n",
       "      <td>10</td>\n",
       "      <td>RENT</td>\n",
       "      <td>24000.0</td>\n",
       "      <td>Verified</td>\n",
       "      <td>1</td>\n",
       "      <td>credit_card</td>\n",
       "      <td>27.65</td>\n",
       "      <td>0.0</td>\n",
       "      <td>1.0</td>\n",
       "      <td>3.0</td>\n",
       "      <td>0.0</td>\n",
       "      <td>13648.0</td>\n",
       "      <td>83.7</td>\n",
       "      <td>9.0</td>\n",
       "    </tr>\n",
       "    <tr>\n",
       "      <th>1</th>\n",
       "      <td>2500.0</td>\n",
       "      <td>60 months</td>\n",
       "      <td>15.27</td>\n",
       "      <td>59.83</td>\n",
       "      <td>0</td>\n",
       "      <td>RENT</td>\n",
       "      <td>30000.0</td>\n",
       "      <td>Source Verified</td>\n",
       "      <td>0</td>\n",
       "      <td>car</td>\n",
       "      <td>1.00</td>\n",
       "      <td>0.0</td>\n",
       "      <td>5.0</td>\n",
       "      <td>3.0</td>\n",
       "      <td>0.0</td>\n",
       "      <td>1687.0</td>\n",
       "      <td>9.4</td>\n",
       "      <td>4.0</td>\n",
       "    </tr>\n",
       "    <tr>\n",
       "      <th>2</th>\n",
       "      <td>2400.0</td>\n",
       "      <td>36 months</td>\n",
       "      <td>15.96</td>\n",
       "      <td>84.33</td>\n",
       "      <td>10</td>\n",
       "      <td>RENT</td>\n",
       "      <td>12252.0</td>\n",
       "      <td>Not Verified</td>\n",
       "      <td>1</td>\n",
       "      <td>small_business</td>\n",
       "      <td>8.72</td>\n",
       "      <td>0.0</td>\n",
       "      <td>2.0</td>\n",
       "      <td>2.0</td>\n",
       "      <td>0.0</td>\n",
       "      <td>2956.0</td>\n",
       "      <td>98.5</td>\n",
       "      <td>10.0</td>\n",
       "    </tr>\n",
       "    <tr>\n",
       "      <th>3</th>\n",
       "      <td>10000.0</td>\n",
       "      <td>36 months</td>\n",
       "      <td>13.49</td>\n",
       "      <td>339.31</td>\n",
       "      <td>10</td>\n",
       "      <td>RENT</td>\n",
       "      <td>49200.0</td>\n",
       "      <td>Source Verified</td>\n",
       "      <td>1</td>\n",
       "      <td>other</td>\n",
       "      <td>20.00</td>\n",
       "      <td>0.0</td>\n",
       "      <td>1.0</td>\n",
       "      <td>10.0</td>\n",
       "      <td>0.0</td>\n",
       "      <td>5598.0</td>\n",
       "      <td>21.0</td>\n",
       "      <td>37.0</td>\n",
       "    </tr>\n",
       "    <tr>\n",
       "      <th>4</th>\n",
       "      <td>5000.0</td>\n",
       "      <td>36 months</td>\n",
       "      <td>7.90</td>\n",
       "      <td>156.46</td>\n",
       "      <td>3</td>\n",
       "      <td>RENT</td>\n",
       "      <td>36000.0</td>\n",
       "      <td>Source Verified</td>\n",
       "      <td>1</td>\n",
       "      <td>wedding</td>\n",
       "      <td>11.20</td>\n",
       "      <td>0.0</td>\n",
       "      <td>3.0</td>\n",
       "      <td>9.0</td>\n",
       "      <td>0.0</td>\n",
       "      <td>7963.0</td>\n",
       "      <td>28.3</td>\n",
       "      <td>12.0</td>\n",
       "    </tr>\n",
       "  </tbody>\n",
       "</table>\n",
       "</div>"
      ],
      "text/plain": [
       "   loan_amnt        term  int_rate  installment  emp_length home_ownership  \\\n",
       "0     5000.0   36 months     10.65       162.87          10           RENT   \n",
       "1     2500.0   60 months     15.27        59.83           0           RENT   \n",
       "2     2400.0   36 months     15.96        84.33          10           RENT   \n",
       "3    10000.0   36 months     13.49       339.31          10           RENT   \n",
       "4     5000.0   36 months      7.90       156.46           3           RENT   \n",
       "\n",
       "   annual_inc verification_status  loan_status         purpose    dti  \\\n",
       "0     24000.0            Verified            1     credit_card  27.65   \n",
       "1     30000.0     Source Verified            0             car   1.00   \n",
       "2     12252.0        Not Verified            1  small_business   8.72   \n",
       "3     49200.0     Source Verified            1           other  20.00   \n",
       "4     36000.0     Source Verified            1         wedding  11.20   \n",
       "\n",
       "   delinq_2yrs  inq_last_6mths  open_acc  pub_rec  revol_bal  revol_util  \\\n",
       "0          0.0             1.0       3.0      0.0    13648.0        83.7   \n",
       "1          0.0             5.0       3.0      0.0     1687.0         9.4   \n",
       "2          0.0             2.0       2.0      0.0     2956.0        98.5   \n",
       "3          0.0             1.0      10.0      0.0     5598.0        21.0   \n",
       "4          0.0             3.0       9.0      0.0     7963.0        28.3   \n",
       "\n",
       "   total_acc  \n",
       "0        9.0  \n",
       "1        4.0  \n",
       "2       10.0  \n",
       "3       37.0  \n",
       "4       12.0  "
      ]
     },
     "execution_count": 11,
     "metadata": {},
     "output_type": "execute_result"
    }
   ],
   "source": [
    "mapping_dict = {\n",
    "    \"emp_length\": {\n",
    "        \"10+ years\": 10,\n",
    "        \"9 years\": 9,\n",
    "        \"8 years\": 8,\n",
    "        \"7 years\": 7,\n",
    "        \"6 years\": 6,\n",
    "        \"5 years\": 5,\n",
    "        \"4 years\": 4,\n",
    "        \"3 years\": 3,\n",
    "        \"2 years\": 2,\n",
    "        \"1 year\": 1,\n",
    "        \"< 1 year\": 0,\n",
    "        \"n/a\": 0\n",
    "    }\n",
    "}\n",
    "\n",
    "loans = loans.drop([\"last_credit_pull_d\", \"addr_state\", \"title\", \"earliest_cr_line\",\"pymnt_plan\"], axis = 1)\n",
    "\n",
    "loans['int_rate'] = loans['int_rate'].str.rstrip('%').astype(\"float\")\n",
    "loans['revol_util'] = loans['revol_util'].str.rstrip('%').astype(\"float\")\n",
    "\n",
    "loans = loans.replace(mapping_dict)\n",
    "\n",
    "loans.head()"
   ]
  },
  {
   "cell_type": "markdown",
   "metadata": {},
   "source": [
    "### Dummy Variables"
   ]
  },
  {
   "cell_type": "code",
   "execution_count": 12,
   "metadata": {
    "collapsed": true
   },
   "outputs": [],
   "source": [
    "cat_columns = [\"home_ownership\", \"verification_status\", \"emp_length\", \"purpose\", \"term\"]\n",
    "\n",
    "dummy_df = pd.get_dummies(loans[cat_columns])\n",
    "loans = pd.concat([loans, dummy_df], axis=1)\n",
    "loans = loans.drop(cat_columns, axis=1)"
   ]
  },
  {
   "cell_type": "code",
   "execution_count": 67,
   "metadata": {
    "collapsed": false
   },
   "outputs": [
    {
     "data": {
      "text/html": [
       "<div>\n",
       "<table border=\"1\" class=\"dataframe\">\n",
       "  <thead>\n",
       "    <tr style=\"text-align: right;\">\n",
       "      <th></th>\n",
       "      <th>loan_amnt</th>\n",
       "      <th>int_rate</th>\n",
       "      <th>installment</th>\n",
       "      <th>annual_inc</th>\n",
       "      <th>loan_status</th>\n",
       "      <th>dti</th>\n",
       "      <th>delinq_2yrs</th>\n",
       "      <th>inq_last_6mths</th>\n",
       "      <th>open_acc</th>\n",
       "      <th>pub_rec</th>\n",
       "      <th>...</th>\n",
       "      <th>purpose_major_purchase</th>\n",
       "      <th>purpose_medical</th>\n",
       "      <th>purpose_moving</th>\n",
       "      <th>purpose_other</th>\n",
       "      <th>purpose_renewable_energy</th>\n",
       "      <th>purpose_small_business</th>\n",
       "      <th>purpose_vacation</th>\n",
       "      <th>purpose_wedding</th>\n",
       "      <th>term_ 36 months</th>\n",
       "      <th>term_ 60 months</th>\n",
       "    </tr>\n",
       "  </thead>\n",
       "  <tbody>\n",
       "    <tr>\n",
       "      <th>0</th>\n",
       "      <td>5000.0</td>\n",
       "      <td>10.65</td>\n",
       "      <td>162.87</td>\n",
       "      <td>24000.0</td>\n",
       "      <td>1</td>\n",
       "      <td>27.65</td>\n",
       "      <td>0.0</td>\n",
       "      <td>1.0</td>\n",
       "      <td>3.0</td>\n",
       "      <td>0.0</td>\n",
       "      <td>...</td>\n",
       "      <td>0.0</td>\n",
       "      <td>0.0</td>\n",
       "      <td>0.0</td>\n",
       "      <td>0.0</td>\n",
       "      <td>0.0</td>\n",
       "      <td>0.0</td>\n",
       "      <td>0.0</td>\n",
       "      <td>0.0</td>\n",
       "      <td>1.0</td>\n",
       "      <td>0.0</td>\n",
       "    </tr>\n",
       "    <tr>\n",
       "      <th>1</th>\n",
       "      <td>2500.0</td>\n",
       "      <td>15.27</td>\n",
       "      <td>59.83</td>\n",
       "      <td>30000.0</td>\n",
       "      <td>0</td>\n",
       "      <td>1.00</td>\n",
       "      <td>0.0</td>\n",
       "      <td>5.0</td>\n",
       "      <td>3.0</td>\n",
       "      <td>0.0</td>\n",
       "      <td>...</td>\n",
       "      <td>0.0</td>\n",
       "      <td>0.0</td>\n",
       "      <td>0.0</td>\n",
       "      <td>0.0</td>\n",
       "      <td>0.0</td>\n",
       "      <td>0.0</td>\n",
       "      <td>0.0</td>\n",
       "      <td>0.0</td>\n",
       "      <td>0.0</td>\n",
       "      <td>1.0</td>\n",
       "    </tr>\n",
       "    <tr>\n",
       "      <th>2</th>\n",
       "      <td>2400.0</td>\n",
       "      <td>15.96</td>\n",
       "      <td>84.33</td>\n",
       "      <td>12252.0</td>\n",
       "      <td>1</td>\n",
       "      <td>8.72</td>\n",
       "      <td>0.0</td>\n",
       "      <td>2.0</td>\n",
       "      <td>2.0</td>\n",
       "      <td>0.0</td>\n",
       "      <td>...</td>\n",
       "      <td>0.0</td>\n",
       "      <td>0.0</td>\n",
       "      <td>0.0</td>\n",
       "      <td>0.0</td>\n",
       "      <td>0.0</td>\n",
       "      <td>1.0</td>\n",
       "      <td>0.0</td>\n",
       "      <td>0.0</td>\n",
       "      <td>1.0</td>\n",
       "      <td>0.0</td>\n",
       "    </tr>\n",
       "    <tr>\n",
       "      <th>3</th>\n",
       "      <td>10000.0</td>\n",
       "      <td>13.49</td>\n",
       "      <td>339.31</td>\n",
       "      <td>49200.0</td>\n",
       "      <td>1</td>\n",
       "      <td>20.00</td>\n",
       "      <td>0.0</td>\n",
       "      <td>1.0</td>\n",
       "      <td>10.0</td>\n",
       "      <td>0.0</td>\n",
       "      <td>...</td>\n",
       "      <td>0.0</td>\n",
       "      <td>0.0</td>\n",
       "      <td>0.0</td>\n",
       "      <td>1.0</td>\n",
       "      <td>0.0</td>\n",
       "      <td>0.0</td>\n",
       "      <td>0.0</td>\n",
       "      <td>0.0</td>\n",
       "      <td>1.0</td>\n",
       "      <td>0.0</td>\n",
       "    </tr>\n",
       "    <tr>\n",
       "      <th>4</th>\n",
       "      <td>5000.0</td>\n",
       "      <td>7.90</td>\n",
       "      <td>156.46</td>\n",
       "      <td>36000.0</td>\n",
       "      <td>1</td>\n",
       "      <td>11.20</td>\n",
       "      <td>0.0</td>\n",
       "      <td>3.0</td>\n",
       "      <td>9.0</td>\n",
       "      <td>0.0</td>\n",
       "      <td>...</td>\n",
       "      <td>0.0</td>\n",
       "      <td>0.0</td>\n",
       "      <td>0.0</td>\n",
       "      <td>0.0</td>\n",
       "      <td>0.0</td>\n",
       "      <td>0.0</td>\n",
       "      <td>0.0</td>\n",
       "      <td>1.0</td>\n",
       "      <td>1.0</td>\n",
       "      <td>0.0</td>\n",
       "    </tr>\n",
       "  </tbody>\n",
       "</table>\n",
       "<p>5 rows × 37 columns</p>\n",
       "</div>"
      ],
      "text/plain": [
       "   loan_amnt  int_rate  installment  annual_inc  loan_status    dti  \\\n",
       "0     5000.0     10.65       162.87     24000.0            1  27.65   \n",
       "1     2500.0     15.27        59.83     30000.0            0   1.00   \n",
       "2     2400.0     15.96        84.33     12252.0            1   8.72   \n",
       "3    10000.0     13.49       339.31     49200.0            1  20.00   \n",
       "4     5000.0      7.90       156.46     36000.0            1  11.20   \n",
       "\n",
       "   delinq_2yrs  inq_last_6mths  open_acc  pub_rec       ...         \\\n",
       "0          0.0             1.0       3.0      0.0       ...          \n",
       "1          0.0             5.0       3.0      0.0       ...          \n",
       "2          0.0             2.0       2.0      0.0       ...          \n",
       "3          0.0             1.0      10.0      0.0       ...          \n",
       "4          0.0             3.0       9.0      0.0       ...          \n",
       "\n",
       "   purpose_major_purchase  purpose_medical  purpose_moving  purpose_other  \\\n",
       "0                     0.0              0.0             0.0            0.0   \n",
       "1                     0.0              0.0             0.0            0.0   \n",
       "2                     0.0              0.0             0.0            0.0   \n",
       "3                     0.0              0.0             0.0            1.0   \n",
       "4                     0.0              0.0             0.0            0.0   \n",
       "\n",
       "   purpose_renewable_energy  purpose_small_business  purpose_vacation  \\\n",
       "0                       0.0                     0.0               0.0   \n",
       "1                       0.0                     0.0               0.0   \n",
       "2                       0.0                     1.0               0.0   \n",
       "3                       0.0                     0.0               0.0   \n",
       "4                       0.0                     0.0               0.0   \n",
       "\n",
       "   purpose_wedding  term_ 36 months  term_ 60 months  \n",
       "0              0.0              1.0              0.0  \n",
       "1              0.0              0.0              1.0  \n",
       "2              0.0              1.0              0.0  \n",
       "3              0.0              1.0              0.0  \n",
       "4              1.0              1.0              0.0  \n",
       "\n",
       "[5 rows x 37 columns]"
      ]
     },
     "execution_count": 67,
     "metadata": {},
     "output_type": "execute_result"
    }
   ],
   "source": [
    "loans.head()"
   ]
  },
  {
   "cell_type": "markdown",
   "metadata": {},
   "source": [
    "# 3) Making Predictions"
   ]
  },
  {
   "cell_type": "code",
   "execution_count": 13,
   "metadata": {
    "collapsed": false
   },
   "outputs": [
    {
     "name": "stdout",
     "output_type": "stream",
     "text": [
      "<class 'pandas.core.frame.DataFrame'>\n",
      "RangeIndex: 39498 entries, 0 to 39497\n",
      "Data columns (total 37 columns):\n",
      "loan_amnt                              39498 non-null float64\n",
      "int_rate                               39498 non-null float64\n",
      "installment                            39498 non-null float64\n",
      "annual_inc                             39498 non-null float64\n",
      "loan_status                            39498 non-null int64\n",
      "dti                                    39498 non-null float64\n",
      "delinq_2yrs                            39498 non-null float64\n",
      "inq_last_6mths                         39498 non-null float64\n",
      "open_acc                               39498 non-null float64\n",
      "pub_rec                                39498 non-null float64\n",
      "revol_bal                              39498 non-null float64\n",
      "revol_util                             39498 non-null float64\n",
      "total_acc                              39498 non-null float64\n",
      "home_ownership_MORTGAGE                39498 non-null float64\n",
      "home_ownership_NONE                    39498 non-null float64\n",
      "home_ownership_OTHER                   39498 non-null float64\n",
      "home_ownership_OWN                     39498 non-null float64\n",
      "home_ownership_RENT                    39498 non-null float64\n",
      "verification_status_Not Verified       39498 non-null float64\n",
      "verification_status_Source Verified    39498 non-null float64\n",
      "verification_status_Verified           39498 non-null float64\n",
      "purpose_car                            39498 non-null float64\n",
      "purpose_credit_card                    39498 non-null float64\n",
      "purpose_debt_consolidation             39498 non-null float64\n",
      "purpose_educational                    39498 non-null float64\n",
      "purpose_home_improvement               39498 non-null float64\n",
      "purpose_house                          39498 non-null float64\n",
      "purpose_major_purchase                 39498 non-null float64\n",
      "purpose_medical                        39498 non-null float64\n",
      "purpose_moving                         39498 non-null float64\n",
      "purpose_other                          39498 non-null float64\n",
      "purpose_renewable_energy               39498 non-null float64\n",
      "purpose_small_business                 39498 non-null float64\n",
      "purpose_vacation                       39498 non-null float64\n",
      "purpose_wedding                        39498 non-null float64\n",
      "term_ 36 months                        39498 non-null float64\n",
      "term_ 60 months                        39498 non-null float64\n",
      "dtypes: float64(36), int64(1)\n",
      "memory usage: 11.1 MB\n",
      "None\n"
     ]
    }
   ],
   "source": [
    "print(loans.info())"
   ]
  },
  {
   "cell_type": "markdown",
   "metadata": {
    "collapsed": true
   },
   "source": [
    "### Classification with Logistic Regression & Cross Validation"
   ]
  },
  {
   "cell_type": "code",
   "execution_count": 20,
   "metadata": {
    "collapsed": false
   },
   "outputs": [
    {
     "name": "stdout",
     "output_type": "stream",
     "text": [
      "True Positive Rate (recall): 0.9991139726512892\n",
      "False Positive Rate (fall-out): 0.9980492995211917\n"
     ]
    }
   ],
   "source": [
    "from sklearn.linear_model import LogisticRegression\n",
    "from sklearn.cross_validation import cross_val_predict, KFold\n",
    "lr = LogisticRegression()\n",
    "\n",
    "cols = loans.columns\n",
    "train_cols = cols.drop(\"loan_status\")\n",
    "features = loans[train_cols]\n",
    "target = loans[\"loan_status\"]\n",
    "\n",
    "# 3 Folds by default\n",
    "kf = KFold(features.shape[0], random_state=1)\n",
    "\n",
    "\n",
    "predictions = cross_val_predict(lr, features, target, cv = kf)\n",
    "predictions = pd.Series(predictions)\n",
    "\n",
    "#loans = loans.reset_index(drop=True)\n",
    "\n",
    "tn_filter = (predictions == 0) & (loans[\"loan_status\"] == 0)\n",
    "tn = len(loans[tn_filter])\n",
    "\n",
    "tp_filter = (predictions == 1) & (loans[\"loan_status\"] == 1)\n",
    "tp = len(loans[tp_filter])\n",
    "\n",
    "fn_filter = (predictions == 0) & (loans[\"loan_status\"] == 1)\n",
    "fn = len(loans[fn_filter])\n",
    "\n",
    "fp_filter = (predictions == 1) & (loans[\"loan_status\"] == 0)\n",
    "fp = len(loans[fp_filter])\n",
    "\n",
    "tpr = tp / (tp + fn)\n",
    "fpr = fp / (fp + tn)\n",
    "\n",
    "print(\"True Positive Rate (recall): \" + str(tpr))\n",
    "print(\"False Positive Rate (fall-out): \" + str(fpr))"
   ]
  },
  {
   "cell_type": "markdown",
   "metadata": {},
   "source": [
    "We should optimize for:\n",
    "- high recall (true positive rate) we want a lot a loans we could invest on.\n",
    "- low fall-out (false positive rate) we don't want to lose money on bad loans, it minize the risk."
   ]
  },
  {
   "cell_type": "markdown",
   "metadata": {},
   "source": [
    "### Imbalanced Classes : Penalizing the Classifier with Class Weight\n",
    "We can do this by setting the class_weight parameter to balanced. This tells scikit-learn to penalize the misclassification of the minority class during the training process.  the penalty is set to be inversely proportional to the class frequencies. \n",
    "\n",
    "For the classifier, correctly classifying a row where loan_status is 0 is 6 times more important than correctly classifying a row where loan_status is 1."
   ]
  },
  {
   "cell_type": "code",
   "execution_count": 16,
   "metadata": {
    "collapsed": false
   },
   "outputs": [
    {
     "name": "stdout",
     "output_type": "stream",
     "text": [
      "0.6516731149768156\n",
      "0.380209256960454\n"
     ]
    }
   ],
   "source": [
    "from sklearn.linear_model import LogisticRegression\n",
    "from sklearn.cross_validation import cross_val_predict\n",
    "lr = LogisticRegression(class_weight = \"balanced\")\n",
    "# 3 Folds by default\n",
    "kf = KFold(features.shape[0], random_state=1)\n",
    "\n",
    "predictions = cross_val_predict(lr, features, target, cv = kf)\n",
    "predictions = pd.Series(predictions)\n",
    "\n",
    "tn_filter = (predictions == 0) & (loans[\"loan_status\"] == 0)\n",
    "tn = len(loans[tn_filter])\n",
    "\n",
    "tp_filter = (predictions == 1) & (loans[\"loan_status\"] == 1)\n",
    "tp = len(loans[tp_filter])\n",
    "\n",
    "fn_filter = (predictions == 0) & (loans[\"loan_status\"] == 1)\n",
    "fn = len(loans[fn_filter])\n",
    "\n",
    "fp_filter = (predictions == 1) & (loans[\"loan_status\"] == 0)\n",
    "fp = len(loans[fp_filter])\n",
    "\n",
    "tpr = tp / (tp + fn)\n",
    "fpr = fp / (fp + tn)\n",
    "\n",
    "print(tpr)\n",
    "print(fpr)"
   ]
  },
  {
   "cell_type": "markdown",
   "metadata": {},
   "source": [
    "We improved false positive rate"
   ]
  },
  {
   "cell_type": "markdown",
   "metadata": {},
   "source": [
    "### Manual Penalties :  Increase penalty for misclassifying"
   ]
  },
  {
   "cell_type": "code",
   "execution_count": 21,
   "metadata": {
    "collapsed": false
   },
   "outputs": [
    {
     "name": "stdout",
     "output_type": "stream",
     "text": [
      "0.22035500162438348\n",
      "0.07820535555949637\n"
     ]
    }
   ],
   "source": [
    "from sklearn.linear_model import LogisticRegression\n",
    "from sklearn.cross_validation import cross_val_predict\n",
    "\n",
    "penalty = {\n",
    "    0: 10,\n",
    "    1: 1\n",
    "}\n",
    "lr = LogisticRegression(class_weight=penalty)\n",
    "\n",
    "kf = KFold(features.shape[0], random_state=1)\n",
    "\n",
    "predictions = cross_val_predict(lr, features, target, cv = kf)\n",
    "predictions = pd.Series(predictions)\n",
    "\n",
    "tn_filter = (predictions == 0) & (loans[\"loan_status\"] == 0)\n",
    "tn = len(loans[tn_filter])\n",
    "\n",
    "tp_filter = (predictions == 1) & (loans[\"loan_status\"] == 1)\n",
    "tp = len(loans[tp_filter])\n",
    "\n",
    "fn_filter = (predictions == 0) & (loans[\"loan_status\"] == 1)\n",
    "fn = len(loans[fn_filter])\n",
    "\n",
    "fp_filter = (predictions == 1) & (loans[\"loan_status\"] == 0)\n",
    "fp = len(loans[fp_filter])\n",
    "\n",
    "tpr = tp / (tp + fn)\n",
    "fpr = fp / (fp + tn)\n",
    "\n",
    "print(tpr)\n",
    "print(fpr)"
   ]
  },
  {
   "cell_type": "markdown",
   "metadata": {},
   "source": [
    "While we have fewer false positives, we are also missing opportunities to make more money.\n",
    "\n",
    "There is a TradeOff between them."
   ]
  },
  {
   "cell_type": "markdown",
   "metadata": {},
   "source": [
    "### Random Forests"
   ]
  },
  {
   "cell_type": "code",
   "execution_count": 22,
   "metadata": {
    "collapsed": false
   },
   "outputs": [
    {
     "name": "stdout",
     "output_type": "stream",
     "text": [
      "0.9738621932130305\n",
      "0.9409469764142578\n"
     ]
    }
   ],
   "source": [
    "from sklearn.ensemble import RandomForestClassifier\n",
    "from sklearn.cross_validation import cross_val_predict\n",
    "\n",
    "rf = RandomForestClassifier(class_weight=\"balanced\", random_state=1)\n",
    "\n",
    "kf = KFold(features.shape[0], random_state=1)\n",
    "\n",
    "predictions = cross_val_predict(rf, features, target, cv = kf)\n",
    "predictions = pd.Series(predictions)\n",
    "\n",
    "tn_filter = (predictions == 0) & (loans[\"loan_status\"] == 0)\n",
    "tn = len(loans[tn_filter])\n",
    "\n",
    "tp_filter = (predictions == 1) & (loans[\"loan_status\"] == 1)\n",
    "tp = len(loans[tp_filter])\n",
    "\n",
    "fn_filter = (predictions == 0) & (loans[\"loan_status\"] == 1)\n",
    "fn = len(loans[fn_filter])\n",
    "\n",
    "fp_filter = (predictions == 1) & (loans[\"loan_status\"] == 0)\n",
    "fp = len(loans[fp_filter])\n",
    "\n",
    "tpr = tp / (tp + fn)\n",
    "fpr = fp / (fp + tn)\n",
    "\n",
    "print(tpr)\n",
    "print(fpr)"
   ]
  }
 ],
 "metadata": {
  "anaconda-cloud": {},
  "kernelspec": {
   "display_name": "Python [conda root]",
   "language": "python",
   "name": "conda-root-py"
  },
  "language_info": {
   "codemirror_mode": {
    "name": "ipython",
    "version": 3
   },
   "file_extension": ".py",
   "mimetype": "text/x-python",
   "name": "python",
   "nbconvert_exporter": "python",
   "pygments_lexer": "ipython3",
   "version": "3.5.2"
  }
 },
 "nbformat": 4,
 "nbformat_minor": 0
}
