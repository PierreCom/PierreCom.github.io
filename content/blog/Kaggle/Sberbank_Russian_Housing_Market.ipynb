{
 "cells": [
  {
   "cell_type": "markdown",
   "metadata": {
    "collapsed": true
   },
   "source": [
    "# Kaggle : Predict realty prices Sberbank Russian housing market\n",
    "Predict realty prices with housing data and macroeconomic patterns.\n",
    "\n",
    "https://www.kaggle.com/c/sberbank-russian-housing-market"
   ]
  },
  {
   "cell_type": "markdown",
   "metadata": {},
   "source": [
    "# 1) Data Cleaning"
   ]
  },
  {
   "cell_type": "code",
   "execution_count": 1,
   "metadata": {},
   "outputs": [
    {
     "name": "stderr",
     "output_type": "stream",
     "text": [
      "/Users/comalada/anaconda/lib/python3.5/site-packages/matplotlib/__init__.py:1357: UserWarning:  This call to matplotlib.use() has no effect\n",
      "because the backend has already been chosen;\n",
      "matplotlib.use() must be called *before* pylab, matplotlib.pyplot,\n",
      "or matplotlib.backends is imported for the first time.\n",
      "\n",
      "  warnings.warn(_use_error_msg)\n"
     ]
    }
   ],
   "source": [
    "%matplotlib inline\n",
    "import pandas as pd\n",
    "import numpy as np\n",
    "import seaborn as sns\n",
    "import matplotlib.pyplot as plt\n",
    "import pandas_profiling\n",
    "import datetime\n",
    "\n",
    "import warnings\n",
    "warnings.filterwarnings('ignore')"
   ]
  },
  {
   "cell_type": "code",
   "execution_count": 581,
   "metadata": {
    "collapsed": true
   },
   "outputs": [],
   "source": [
    "#macro_cols = [\"timestamp\", \"balance_trade\", \"balance_trade_growth\", \"eurrub\", \"average_provision_of_build_contract\",\n",
    "#\"micex_rgbi_tr\", \"micex_cbi_tr\", \"deposits_rate\", \"mortgage_value\", \"mortgage_rate\",\n",
    "#\"income_per_cap\", \"rent_price_4+room_bus\"]\n",
    "macro_cols = [\"timestamp\", \"eurrub\", \"micex_rgbi_tr\", \"micex_cbi_tr\"]\n",
    "\n",
    "df_train = pd.read_csv('./train.csv')\n",
    "df_macro = pd.read_csv('./macro.csv', usecols= macro_cols)\n",
    "df_test = pd.read_csv('./test.csv')"
   ]
  },
  {
   "cell_type": "code",
   "execution_count": 582,
   "metadata": {},
   "outputs": [
    {
     "name": "stdout",
     "output_type": "stream",
     "text": [
      "Train : \n",
      "30471\n",
      "292\n",
      "Macro : \n",
      "2484\n",
      "4\n",
      "Test : \n",
      "7662\n",
      "291\n"
     ]
    }
   ],
   "source": [
    "print(\"Train : \")\n",
    "print(df_train.shape[0])\n",
    "print(df_train.shape[1])\n",
    "\n",
    "print(\"Macro : \")\n",
    "print(df_macro.shape[0])\n",
    "print(df_macro.shape[1])\n",
    "\n",
    "print(\"Test : \")\n",
    "print(df_test.shape[0])\n",
    "print(df_test.shape[1])"
   ]
  },
  {
   "cell_type": "markdown",
   "metadata": {},
   "source": [
    "## Merge Macro"
   ]
  },
  {
   "cell_type": "code",
   "execution_count": 583,
   "metadata": {
    "collapsed": true
   },
   "outputs": [],
   "source": [
    "df_train = pd.merge_ordered(df_train, df_macro, on='timestamp', how='left')\n",
    "df_test = pd.merge_ordered(df_test, df_macro, on='timestamp', how='left')"
   ]
  },
  {
   "cell_type": "markdown",
   "metadata": {},
   "source": [
    "# Select Columns with Null values\n",
    ".isnull().any() 1) it return True if a value is Null in a column 2) .any() return True when atleast one of the elements is True."
   ]
  },
  {
   "cell_type": "code",
   "execution_count": 584,
   "metadata": {
    "collapsed": true
   },
   "outputs": [],
   "source": [
    "null_columns = df_train.isnull().any()\n",
    "df_train_null = df_train.loc[:,null_columns]"
   ]
  },
  {
   "cell_type": "markdown",
   "metadata": {},
   "source": [
    "## Count null values"
   ]
  },
  {
   "cell_type": "code",
   "execution_count": 585,
   "metadata": {},
   "outputs": [
    {
     "name": "stdout",
     "output_type": "stream",
     "text": [
      "hospital_beds_raion                     0.474\n",
      "build_year                              0.446\n",
      "state                                   0.445\n",
      "cafe_sum_500_min_price_avg              0.436\n",
      "cafe_sum_500_max_price_avg              0.436\n",
      "cafe_avg_price_500                      0.436\n",
      "max_floor                               0.314\n",
      "material                                0.314\n",
      "num_room                                0.314\n",
      "kitch_sq                                0.314\n",
      "preschool_quota                         0.219\n",
      "school_quota                            0.219\n",
      "cafe_sum_1000_max_price_avg             0.214\n",
      "cafe_sum_1000_min_price_avg             0.214\n",
      "cafe_avg_price_1000                     0.214\n",
      "life_sq                                 0.209\n",
      "build_count_before_1920                 0.164\n",
      "build_count_block                       0.164\n",
      "raion_build_count_with_material_info    0.164\n",
      "build_count_wood                        0.164\n",
      "build_count_frame                       0.164\n",
      "build_count_brick                       0.164\n",
      "build_count_monolith                    0.164\n",
      "build_count_panel                       0.164\n",
      "build_count_foam                        0.164\n",
      "build_count_slag                        0.164\n",
      "build_count_mix                         0.164\n",
      "raion_build_count_with_builddate_info   0.164\n",
      "build_count_1971-1995                   0.164\n",
      "build_count_1921-1945                   0.164\n",
      "build_count_1946-1970                   0.164\n",
      "build_count_after_1995                  0.164\n",
      "cafe_sum_1500_min_price_avg             0.138\n",
      "cafe_sum_1500_max_price_avg             0.138\n",
      "cafe_avg_price_1500                     0.138\n",
      "cafe_sum_2000_min_price_avg             0.057\n",
      "cafe_sum_2000_max_price_avg             0.057\n",
      "cafe_avg_price_2000                     0.057\n",
      "cafe_sum_3000_min_price_avg             0.033\n",
      "cafe_sum_3000_max_price_avg             0.033\n",
      "cafe_avg_price_3000                     0.033\n",
      "cafe_sum_5000_max_price_avg             0.010\n",
      "cafe_sum_5000_min_price_avg             0.010\n",
      "cafe_avg_price_5000                     0.010\n",
      "prom_part_5000                          0.006\n",
      "floor                                   0.005\n",
      "railroad_station_walk_km                0.001\n",
      "railroad_station_walk_min               0.001\n",
      "ID_railroad_station_walk                0.001\n",
      "metro_km_walk                           0.001\n",
      "metro_min_walk                          0.001\n",
      "dtype: float64\n"
     ]
    }
   ],
   "source": [
    "null_counts = df_train_null.isnull().sum().sort_values(ascending=False)\n",
    "print(null_counts / df_train.shape[0])"
   ]
  },
  {
   "cell_type": "markdown",
   "metadata": {},
   "source": [
    "## Drop columns with too many Missing Values\n",
    "Delete Columns with more or equal 20% of Missing Values"
   ]
  },
  {
   "cell_type": "markdown",
   "metadata": {},
   "source": [
    "percentage_null = null_counts / df_train.shape[0]\n",
    "useless_cols = []\n",
    "for index, el in enumerate(percentage_null):\n",
    "    if el >= 0.20:\n",
    "        useless_cols.append(percentage_null.index[index])\n",
    "\n",
    "\n",
    "df_train.drop(useless_cols, axis = 1, inplace = True)\n",
    "\n",
    "print(\"Number of Columns Deleted Train: \" + str(len(useless_cols)))\n",
    "\n",
    "##### Test File\n",
    "null_columns = df_test.isnull().any()\n",
    "df_test_null = df_test.loc[:,null_columns]\n",
    "\n",
    "null_counts = df_test_null.isnull().sum()\n",
    "percentage_null = null_counts / df_test.shape[0]\n",
    "useless_cols = []\n",
    "for index, el in enumerate(percentage_null):\n",
    "    if el >= 0.20:\n",
    "        useless_cols.append(percentage_null.index[index])\n",
    "\n",
    "\n",
    "df_test.drop(useless_cols, axis = 1, inplace = True)\n",
    "\n",
    "print(\"Number of Columns Deleted Test: \" + str(len(useless_cols)))"
   ]
  },
  {
   "cell_type": "markdown",
   "metadata": {
    "collapsed": true
   },
   "source": [
    "## Remove single columns value"
   ]
  },
  {
   "cell_type": "code",
   "execution_count": 586,
   "metadata": {},
   "outputs": [
    {
     "name": "stdout",
     "output_type": "stream",
     "text": [
      "[]\n",
      "[]\n"
     ]
    }
   ],
   "source": [
    "drop_columns = []\n",
    "\n",
    "for col in df_train.columns:\n",
    "    # unique also counts the Pandas missing value object nan as a value, we then should use dropna before\n",
    "    length = len(df_train[col].dropna().unique())\n",
    "    \n",
    "    if length == 1:\n",
    "        drop_columns.append(col)\n",
    "    \n",
    "print(drop_columns)\n",
    "\n",
    "##### Test File\n",
    "for col in df_test.columns:\n",
    "    # unique also counts the Pandas missing value object nan as a value, we then should use dropna before\n",
    "    length = len(df_test[col].dropna().unique())\n",
    "    \n",
    "    if length == 1:\n",
    "        drop_columns.append(col)\n",
    "        \n",
    "df_test.drop(drop_columns, axis=1, inplace=True)    \n",
    "print(drop_columns)"
   ]
  },
  {
   "cell_type": "markdown",
   "metadata": {
    "collapsed": true
   },
   "source": [
    "There is no columns with a single value"
   ]
  },
  {
   "cell_type": "markdown",
   "metadata": {},
   "source": [
    "## Columns Type"
   ]
  },
  {
   "cell_type": "code",
   "execution_count": 587,
   "metadata": {},
   "outputs": [
    {
     "name": "stdout",
     "output_type": "stream",
     "text": [
      "int64      157\n",
      "float64    122\n",
      "object      16\n",
      "dtype: int64\n",
      "\n",
      "int64      159\n",
      "float64    119\n",
      "object      16\n",
      "dtype: int64\n"
     ]
    }
   ],
   "source": [
    "print(df_train.dtypes.value_counts())\n",
    "print(\"\\n\" + str(df_test.dtypes.value_counts()))"
   ]
  },
  {
   "cell_type": "markdown",
   "metadata": {},
   "source": [
    "## Replace missing values with the column mean "
   ]
  },
  {
   "cell_type": "code",
   "execution_count": 588,
   "metadata": {},
   "outputs": [
    {
     "name": "stdout",
     "output_type": "stream",
     "text": [
      "0\n",
      "1\n"
     ]
    }
   ],
   "source": [
    "# Select Int and Float columns\n",
    "int_float_df = df_train.select_dtypes(include=['int64','float64'])\n",
    "\n",
    "# fill missing values with mean column values\n",
    "df_train.fillna(int_float_df.mean(), inplace=True)\n",
    "\n",
    "# Check if there is Null Values in columns      \n",
    "print(sum(df_train.isnull().sum() != 0))\n",
    "\n",
    "##### Test File\n",
    "int_float_df = df_test.select_dtypes(include=['int64','float64'])\n",
    "df_test.fillna(int_float_df.mean(), inplace=True)\n",
    "print(sum(df_test.isnull().sum() != 0))"
   ]
  },
  {
   "cell_type": "code",
   "execution_count": 589,
   "metadata": {},
   "outputs": [
    {
     "name": "stdout",
     "output_type": "stream",
     "text": [
      "0\n"
     ]
    }
   ],
   "source": [
    "#Replace Product_Type NA values with the Mode.\n",
    "df_test[\"product_type\"].fillna(df_test[\"product_type\"].mode().iloc[0], inplace=True)\n",
    "print(sum(df_test.isnull().sum() != 0))"
   ]
  },
  {
   "cell_type": "code",
   "execution_count": 590,
   "metadata": {
    "collapsed": true
   },
   "outputs": [],
   "source": [
    "df_train.to_csv('./clean_train.csv', index=False)\n",
    "df_test.to_csv('./clean_test.csv', index=False)"
   ]
  },
  {
   "cell_type": "markdown",
   "metadata": {},
   "source": [
    "# 2) Data Exploration & Feature Engineering"
   ]
  },
  {
   "cell_type": "code",
   "execution_count": 547,
   "metadata": {
    "collapsed": true
   },
   "outputs": [],
   "source": [
    "df_train = pd.read_csv('./clean_train.csv')\n",
    "df_test = pd.read_csv('./clean_test.csv')"
   ]
  },
  {
   "cell_type": "markdown",
   "metadata": {},
   "source": [
    "## Exploring the Realty Prices"
   ]
  },
  {
   "cell_type": "code",
   "execution_count": 12,
   "metadata": {},
   "outputs": [
    {
     "name": "stdout",
     "output_type": "stream",
     "text": [
      "Skew is: 4.47474487357\n"
     ]
    },
    {
     "data": {
      "image/png": "[encoded data removed]",
      "text/plain": [
       "<matplotlib.figure.Figure at 0x10d842208>"
      ]
     },
     "metadata": {},
     "output_type": "display_data"
    }
   ],
   "source": [
    "fig, ax = plt.subplots()\n",
    "\n",
    "plt.figsize=(8, 16)\n",
    "ax.ticklabel_format(useOffset=False, style='plain')\n",
    "print (\"Skew is:\", df_train.price_doc.skew())\n",
    "\n",
    "ax.hist(df_train.price_doc, bins=100, color='blue')\n",
    "plt.xlim(0, 40000000)\n",
    "plt.show()"
   ]
  },
  {
   "cell_type": "markdown",
   "metadata": {},
   "source": [
    "The distribution of Prices is positively skewed, so we need to perform a Data Transformation on the target variable with a log transform.\n",
    "\n",
    "__The goal is to increase the linear relationship between variables.__\n",
    "\n",
    "We'll need to transform back to the original scale the predictions using the inverse of the transformation that was applied to the data."
   ]
  },
  {
   "cell_type": "code",
   "execution_count": 13,
   "metadata": {},
   "outputs": [
    {
     "name": "stdout",
     "output_type": "stream",
     "text": [
      "Skew is: -0.686715679719\n"
     ]
    },
    {
     "data": {
      "image/png": "[encoded data removed]",
      "text/plain": [
       "<matplotlib.figure.Figure at 0x10da62748>"
      ]
     },
     "metadata": {},
     "output_type": "display_data"
    }
   ],
   "source": [
    "target = np.log(df_train.price_doc)\n",
    "print (\"Skew is:\", target.skew())\n",
    "plt.hist(target, bins=100, color='blue')\n",
    "plt.show()"
   ]
  },
  {
   "cell_type": "code",
   "execution_count": 14,
   "metadata": {},
   "outputs": [
    {
     "data": {
      "text/plain": [
       "count   30471.000\n",
       "mean       15.609\n",
       "std         0.605\n",
       "min        11.513\n",
       "25%        15.372\n",
       "50%        15.652\n",
       "75%        15.932\n",
       "max        18.526\n",
       "Name: price_doc, dtype: float64"
      ]
     },
     "execution_count": 14,
     "metadata": {},
     "output_type": "execute_result"
    }
   ],
   "source": [
    "# Change Scientific Notation\n",
    "pd.set_option('display.float_format', lambda x: '%.3f' % x)\n",
    "#df_train.price_doc.describe()\n",
    "target = np.log(df_train.price_doc)\n",
    "target.describe()"
   ]
  },
  {
   "cell_type": "markdown",
   "metadata": {},
   "source": [
    "## Remove outliers in Price (Higher than 3 std)"
   ]
  },
  {
   "cell_type": "code",
   "execution_count": 591,
   "metadata": {},
   "outputs": [
    {
     "name": "stdout",
     "output_type": "stream",
     "text": [
      "(30471, 295)\n",
      "(30325, 295)\n"
     ]
    }
   ],
   "source": [
    "print(df_train.shape)\n",
    "\n",
    "df_train = df_train[np.abs(np.log(df_train.price_doc)-np.log(df_train.price_doc).mean())<=(3.0*np.log(df_train.price_doc).std())] \n",
    "\n",
    "print(df_train.shape)"
   ]
  },
  {
   "cell_type": "markdown",
   "metadata": {},
   "source": [
    "## Examine Correlations between Features and the Target Variable."
   ]
  },
  {
   "cell_type": "code",
   "execution_count": 592,
   "metadata": {
    "scrolled": true
   },
   "outputs": [
    {
     "name": "stdout",
     "output_type": "stream",
     "text": [
      "cafe_count_1500_na_price      0.104\n",
      "mosque_count_1000             0.103\n",
      "cafe_count_2000               0.102\n",
      "cafe_count_2000_price_1500    0.102\n",
      "cafe_count_500                0.102\n",
      "cafe_count_2000_price_500     0.101\n",
      "cafe_count_2000_na_price      0.101\n",
      "cafe_count_1000_price_1500    0.100\n",
      "cafe_count_3000_price_4000    0.099\n",
      "market_count_1500             0.098\n",
      "cafe_count_1500_price_high    0.098\n",
      "mosque_count_2000             0.097\n",
      "cafe_count_2000_price_2500    0.096\n",
      "trc_sqm_1500                  0.096\n",
      "cafe_sum_1500_max_price_avg   0.096\n",
      "cafe_count_1500_price_2500    0.095\n",
      "cafe_avg_price_1500           0.095\n",
      "cafe_count_1500               0.095\n",
      "ID_railroad_terminal          0.094\n",
      "mosque_count_3000             0.094\n",
      "cafe_sum_2000_max_price_avg   0.094\n",
      "cafe_sum_1500_min_price_avg   0.093\n",
      "cafe_count_2000_price_high    0.093\n",
      "cafe_avg_price_2000           0.092\n",
      "cafe_count_1500_price_1500    0.092\n",
      "state                         0.092\n",
      "sport_count_500               0.090\n",
      "cafe_count_1000_na_price      0.089\n",
      "cafe_sum_2000_min_price_avg   0.089\n",
      "cafe_count_1500_price_500     0.088\n",
      "leisure_count_3000            0.088\n",
      "max_floor                     0.086\n",
      "cafe_count_1000               0.085\n",
      "cafe_count_500_price_500      0.085\n",
      "leisure_count_1500            0.084\n",
      "trc_count_1000                0.083\n",
      "cafe_sum_1000_min_price_avg   0.079\n",
      "market_count_1000             0.078\n",
      "cafe_avg_price_1000           0.075\n",
      "big_church_count_1000         0.074\n",
      "church_count_2000             0.073\n",
      "trc_count_500                 0.073\n",
      "cafe_sum_1000_max_price_avg   0.072\n",
      "build_count_before_1920       0.072\n",
      "cafe_count_1000_price_2500    0.068\n",
      "cafe_count_2000_price_4000    0.068\n",
      "big_church_count_2000         0.064\n",
      "leisure_count_1000            0.064\n",
      "cafe_count_1000_price_500     0.063\n",
      "church_count_1500             0.062\n",
      "Name: price_doc, dtype: float64 \n",
      "\n"
     ]
    }
   ],
   "source": [
    "numeric_features = df_train.select_dtypes(include=[np.number])\n",
    "\n",
    "corr = numeric_features.corr()\n",
    "\n",
    "print (corr['price_doc'].sort_values(ascending=False)[100:150], '\\n')"
   ]
  },
  {
   "cell_type": "markdown",
   "metadata": {},
   "source": [
    "## Select Features with a Correlation above 0.0"
   ]
  },
  {
   "cell_type": "code",
   "execution_count": 593,
   "metadata": {},
   "outputs": [
    {
     "name": "stdout",
     "output_type": "stream",
     "text": [
      "Index(['id', 'timestamp', 'full_sq', 'life_sq', 'floor', 'max_floor',\n",
      "       'material', 'build_year', 'num_room', 'kitch_sq',\n",
      "       ...\n",
      "       'cafe_count_5000_price_high', 'big_church_count_5000',\n",
      "       'church_count_5000', 'mosque_count_5000', 'leisure_count_5000',\n",
      "       'sport_count_5000', 'market_count_5000', 'price_doc', 'eurrub',\n",
      "       'micex_cbi_tr'],\n",
      "      dtype='object', length=211)\n",
      "211\n",
      "Index(['id', 'timestamp', 'full_sq', 'life_sq', 'floor', 'max_floor',\n",
      "       'material', 'build_year', 'num_room', 'kitch_sq',\n",
      "       ...\n",
      "       'cafe_count_5000_price_4000', 'cafe_count_5000_price_high',\n",
      "       'big_church_count_5000', 'church_count_5000', 'mosque_count_5000',\n",
      "       'leisure_count_5000', 'sport_count_5000', 'market_count_5000', 'eurrub',\n",
      "       'micex_cbi_tr'],\n",
      "      dtype='object', length=210)\n",
      "210\n"
     ]
    }
   ],
   "source": [
    "columns_corr = list(corr['price_doc'][corr['price_doc'] < 0.00].index)\n",
    "#keep special features \n",
    "#columns_corr.remove(\"kitch_sq\")\n",
    "#floor max_floor kitch_sq full_sq\n",
    "\n",
    "df_train = df_train.drop(columns_corr, axis = 1)\n",
    "print(df_train.columns)\n",
    "print(len(df_train.columns))\n",
    "\n",
    "# Test File\n",
    "df_test = df_test.drop(columns_corr, axis = 1)\n",
    "print(df_test.columns)\n",
    "print(len(df_test.columns))"
   ]
  },
  {
   "cell_type": "markdown",
   "metadata": {},
   "source": [
    "## Plot Correlation Between Price and Total Area"
   ]
  },
  {
   "cell_type": "code",
   "execution_count": 111,
   "metadata": {},
   "outputs": [
    {
     "data": {
      "image/png": "[encoded data removed]",
      "text/plain": [
       "<matplotlib.figure.Figure at 0x10e3cdfd0>"
      ]
     },
     "metadata": {},
     "output_type": "display_data"
    }
   ],
   "source": [
    "target = np.log(df_train.price_doc)\n",
    "plt.scatter(x=df_train['full_sq'], y=target)\n",
    "plt.xlim(0, 250)\n",
    "plt.ylabel('Sale Price')\n",
    "plt.xlabel('Total Area in square meters')\n",
    "plt.show()"
   ]
  },
  {
   "cell_type": "markdown",
   "metadata": {},
   "source": [
    "We can notice some Outliers, we need to remove them."
   ]
  },
  {
   "cell_type": "code",
   "execution_count": 594,
   "metadata": {},
   "outputs": [
    {
     "data": {
      "text/plain": [
       "(30310, 211)"
      ]
     },
     "execution_count": 594,
     "metadata": {},
     "output_type": "execute_result"
    }
   ],
   "source": [
    "df_train = df_train[df_train['full_sq'] < 250]\n",
    "df_train.shape"
   ]
  },
  {
   "cell_type": "markdown",
   "metadata": {},
   "source": [
    "## Explore categorical columns"
   ]
  },
  {
   "cell_type": "code",
   "execution_count": 595,
   "metadata": {},
   "outputs": [
    {
     "data": {
      "text/html": [
       "<div>\n",
       "<style>\n",
       "    .dataframe thead tr:only-child th {\n",
       "        text-align: right;\n",
       "    }\n",
       "\n",
       "    .dataframe thead th {\n",
       "        text-align: left;\n",
       "    }\n",
       "\n",
       "    .dataframe tbody tr th {\n",
       "        vertical-align: top;\n",
       "    }\n",
       "</style>\n",
       "<table border=\"1\" class=\"dataframe\">\n",
       "  <thead>\n",
       "    <tr style=\"text-align: right;\">\n",
       "      <th></th>\n",
       "      <th>timestamp</th>\n",
       "      <th>product_type</th>\n",
       "      <th>sub_area</th>\n",
       "      <th>culture_objects_top_25</th>\n",
       "      <th>thermal_power_plant_raion</th>\n",
       "      <th>incineration_raion</th>\n",
       "      <th>oil_chemistry_raion</th>\n",
       "      <th>radiation_raion</th>\n",
       "      <th>railroad_terminal_raion</th>\n",
       "      <th>big_market_raion</th>\n",
       "      <th>nuclear_reactor_raion</th>\n",
       "      <th>detention_facility_raion</th>\n",
       "      <th>water_1line</th>\n",
       "      <th>big_road1_1line</th>\n",
       "      <th>railroad_1line</th>\n",
       "      <th>ecology</th>\n",
       "    </tr>\n",
       "  </thead>\n",
       "  <tbody>\n",
       "    <tr>\n",
       "      <th>0</th>\n",
       "      <td>2011-08-20</td>\n",
       "      <td>Investment</td>\n",
       "      <td>Bibirevo</td>\n",
       "      <td>no</td>\n",
       "      <td>no</td>\n",
       "      <td>no</td>\n",
       "      <td>no</td>\n",
       "      <td>no</td>\n",
       "      <td>no</td>\n",
       "      <td>no</td>\n",
       "      <td>no</td>\n",
       "      <td>no</td>\n",
       "      <td>no</td>\n",
       "      <td>no</td>\n",
       "      <td>no</td>\n",
       "      <td>good</td>\n",
       "    </tr>\n",
       "  </tbody>\n",
       "</table>\n",
       "</div>"
      ],
      "text/plain": [
       "    timestamp product_type  sub_area culture_objects_top_25  \\\n",
       "0  2011-08-20   Investment  Bibirevo                     no   \n",
       "\n",
       "  thermal_power_plant_raion incineration_raion oil_chemistry_raion  \\\n",
       "0                        no                 no                  no   \n",
       "\n",
       "  radiation_raion railroad_terminal_raion big_market_raion  \\\n",
       "0              no                      no               no   \n",
       "\n",
       "  nuclear_reactor_raion detention_facility_raion water_1line big_road1_1line  \\\n",
       "0                    no                       no          no              no   \n",
       "\n",
       "  railroad_1line ecology  \n",
       "0             no    good  "
      ]
     },
     "execution_count": 595,
     "metadata": {},
     "output_type": "execute_result"
    }
   ],
   "source": [
    "object_columns_df = df_train.select_dtypes(include=['object'])\n",
    "object_columns_df.head(1)"
   ]
  },
  {
   "cell_type": "code",
   "execution_count": 596,
   "metadata": {
    "scrolled": false
   },
   "outputs": [
    {
     "name": "stdout",
     "output_type": "stream",
     "text": [
      "Investment       19321\n",
      "OwnerOccupier    10989\n",
      "Name: product_type, dtype: int64\n",
      "Poselenie Sosenskoe               1776\n",
      "Nekrasovka                        1595\n",
      "Poselenie Vnukovskoe              1372\n",
      "Poselenie Moskovskij               925\n",
      "Poselenie Voskresenskoe            713\n",
      "Mitino                             678\n",
      "Tverskoe                           670\n",
      "Krjukovo                           516\n",
      "Mar'ino                            507\n",
      "Poselenie Filimonkovskoe           496\n",
      "Juzhnoe Butovo                     451\n",
      "Poselenie Shherbinka               443\n",
      "Solncevo                           420\n",
      "Zapadnoe Degunino                  410\n",
      "Poselenie Desjonovskoe             362\n",
      "Otradnoe                           352\n",
      "Nagatinskij Zaton                  326\n",
      "Nagornoe                           305\n",
      "Bogorodskoe                        305\n",
      "Strogino                           300\n",
      "Izmajlovo                          300\n",
      "Tekstil'shhiki                     297\n",
      "Ljublino                           295\n",
      "Gol'janovo                         294\n",
      "Severnoe Tushino                   282\n",
      "Chertanovo Juzhnoe                 273\n",
      "Birjulevo Vostochnoe               267\n",
      "Vyhino-Zhulebino                   263\n",
      "Horoshevo-Mnevniki                 261\n",
      "Zjuzino                            258\n",
      "                                  ... \n",
      "Hamovniki                           78\n",
      "Gagarinskoe                         78\n",
      "Nizhegorodskoe                      77\n",
      "Sokol                               72\n",
      "Altuf'evskoe                        68\n",
      "Rostokino                           62\n",
      "Kurkino                             61\n",
      "Begovoe                             60\n",
      "Sokol'niki                          58\n",
      "Metrogorodok                        58\n",
      "Dorogomilovo                        56\n",
      "Kapotnja                            49\n",
      "Zamoskvorech'e                      47\n",
      "Vnukovo                             44\n",
      "Krasnosel'skoe                      37\n",
      "Severnoe                            37\n",
      "Poselenie Rjazanovskoe              34\n",
      "Poselenie Rogovskoe                 31\n",
      "Poselenie Krasnopahorskoe           27\n",
      "Poselenie Kokoshkino                20\n",
      "Poselenie Mosrentgen                19\n",
      "Arbat                               14\n",
      "Vostochnoe                           7\n",
      "Poselenie Voronovskoe                7\n",
      "Poselenie Marushkinskoe              6\n",
      "Molzhaninovskoe                      3\n",
      "Poselenie Kievskij                   2\n",
      "Poselenie Shhapovskoe                2\n",
      "Poselenie Klenovskoe                 1\n",
      "Poselenie Mihajlovo-Jarcevskoe       1\n",
      "Name: sub_area, Length: 146, dtype: int64\n",
      "no     28434\n",
      "yes     1876\n",
      "Name: culture_objects_top_25, dtype: int64\n",
      "no     28660\n",
      "yes     1650\n",
      "Name: thermal_power_plant_raion, dtype: int64\n",
      "no     28011\n",
      "yes     2299\n",
      "Name: incineration_raion, dtype: int64\n",
      "no     30014\n",
      "yes      296\n",
      "Name: oil_chemistry_raion, dtype: int64\n",
      "no     19532\n",
      "yes    10778\n",
      "Name: radiation_raion, dtype: int64\n",
      "no     29188\n",
      "yes     1122\n",
      "Name: railroad_terminal_raion, dtype: int64\n",
      "no     27491\n",
      "yes     2819\n",
      "Name: big_market_raion, dtype: int64\n",
      "no     29452\n",
      "yes      858\n",
      "Name: nuclear_reactor_raion, dtype: int64\n",
      "no     27286\n",
      "yes     3024\n",
      "Name: detention_facility_raion, dtype: int64\n",
      "no     27982\n",
      "yes     2328\n",
      "Name: water_1line, dtype: int64\n",
      "no     29531\n",
      "yes      779\n",
      "Name: big_road1_1line, dtype: int64\n",
      "no     29419\n",
      "yes      891\n",
      "Name: railroad_1line, dtype: int64\n",
      "poor            7968\n",
      "no data         7650\n",
      "good            7144\n",
      "excellent       3896\n",
      "satisfactory    3652\n",
      "Name: ecology, dtype: int64\n"
     ]
    }
   ],
   "source": [
    "# We need to skip the Date Column\n",
    "filter_object_columns_df = list(object_columns_df.columns)[1:len(list(object_columns_df.columns))]\n",
    "for column in filter_object_columns_df:\n",
    "    print(df_train[column].value_counts())"
   ]
  },
  {
   "cell_type": "markdown",
   "metadata": {},
   "source": [
    "### Select Top 50 Areas, and replace other areas with the label \"Other\". It will reduce the number of columns in the construction of Dummy Variables"
   ]
  },
  {
   "cell_type": "markdown",
   "metadata": {},
   "source": [
    "less_frequent_area = object_columns_df.sub_area.value_counts()[50:].index\n",
    "\n",
    "df_train.sub_area.replace(less_frequent_area, \"Other\", inplace=True)"
   ]
  },
  {
   "cell_type": "markdown",
   "metadata": {},
   "source": [
    "## Remove \"Poselenie Klenovskoe\" which is not in test set "
   ]
  },
  {
   "cell_type": "markdown",
   "metadata": {},
   "source": [
    "print(df_train.shape)\n",
    "df_train = df_train[df_train.sub_area != \"Poselenie Klenovskoe\"]\n",
    "print(df_train.shape)"
   ]
  },
  {
   "cell_type": "markdown",
   "metadata": {},
   "source": [
    "## Creation of Dummy Variables"
   ]
  },
  {
   "cell_type": "code",
   "execution_count": 597,
   "metadata": {
    "collapsed": true
   },
   "outputs": [],
   "source": [
    "# Remove sub Area with too many different values\n",
    "filter_object_columns_df.remove(\"sub_area\")\n",
    "dummy_df = pd.get_dummies(df_train[filter_object_columns_df])\n",
    "df_train = pd.concat([df_train, dummy_df], axis=1)\n",
    "filter_object_columns_df.append(\"sub_area\")\n",
    "df_train = df_train.drop(filter_object_columns_df, axis=1)\n",
    "\n",
    "##### Test File\n",
    "object_columns_df = df_test.select_dtypes(include=['object'])\n",
    "filter_object_columns_df = list(object_columns_df.columns)[1:len(list(object_columns_df.columns))]\n",
    "# Remove sub Area with too many different values\n",
    "filter_object_columns_df.remove(\"sub_area\")\n",
    "dummy_df_test = pd.get_dummies(df_test[filter_object_columns_df])\n",
    "df_test = pd.concat([df_test, dummy_df_test], axis=1)\n",
    "filter_object_columns_df.append(\"sub_area\")\n",
    "df_test = df_test.drop(filter_object_columns_df, axis=1)"
   ]
  },
  {
   "cell_type": "markdown",
   "metadata": {},
   "source": [
    "# Feature Engineering \n",
    "## Add Count of Transactions for month_year and week_year"
   ]
  },
  {
   "cell_type": "code",
   "execution_count": 598,
   "metadata": {
    "collapsed": true
   },
   "outputs": [],
   "source": [
    "#Train\n",
    "df_train[\"timestamp\"] = pd.to_datetime(df_train[\"timestamp\"])\n",
    "\n",
    "month_year = (df_train.timestamp.dt.month + df_train.timestamp.dt.year * 100)\n",
    "month_year_cnt_map = month_year.value_counts().to_dict()\n",
    "#map month_year with value counts\n",
    "df_train['month_year_count'] = month_year.map(month_year_cnt_map)\n",
    "\n",
    "month_year = (df_train.timestamp.dt.weekofyear + df_train.timestamp.dt.year * 100)\n",
    "month_year_cnt_map = month_year.value_counts().to_dict()\n",
    "df_train['week_year_count'] = month_year.map(month_year_cnt_map)\n",
    "\n",
    "\n",
    "#Test\n",
    "df_test[\"timestamp\"] = pd.to_datetime(df_test[\"timestamp\"])\n",
    "\n",
    "month_year = (df_test.timestamp.dt.month + df_test.timestamp.dt.year * 100)\n",
    "month_year_cnt_map = month_year.value_counts().to_dict()\n",
    "df_test['month_year_count'] = month_year.map(month_year_cnt_map)\n",
    "\n",
    "month_year = (df_test.timestamp.dt.weekofyear + df_test.timestamp.dt.year * 100)\n",
    "month_year_cnt_map = month_year.value_counts().to_dict()\n",
    "df_test['week_year_count'] = month_year.map(month_year_cnt_map)"
   ]
  },
  {
   "cell_type": "markdown",
   "metadata": {},
   "source": [
    "## Add month and day-of-week"
   ]
  },
  {
   "cell_type": "code",
   "execution_count": 599,
   "metadata": {
    "collapsed": true
   },
   "outputs": [],
   "source": [
    "#Train\n",
    "df_train['month'] = df_train[\"timestamp\"].dt.month\n",
    "df_train['day'] = df_train[\"timestamp\"].dt.dayofweek\n",
    "\n",
    "#Test\n",
    "df_test['month'] = df_test[\"timestamp\"].dt.month\n",
    "df_test['day'] = df_test[\"timestamp\"].dt.dayofweek"
   ]
  },
  {
   "cell_type": "markdown",
   "metadata": {},
   "source": [
    "## Other Feature Engineering"
   ]
  },
  {
   "cell_type": "code",
   "execution_count": 600,
   "metadata": {
    "collapsed": true
   },
   "outputs": [],
   "source": [
    "df_train['rel_floor'] = df_train['floor'] / df_train['max_floor'].astype(float)\n",
    "df_train['rel_kitch_sq'] = df_train['kitch_sq'] / df_train['full_sq'].astype(float)\n",
    "\n",
    "df_test['rel_floor'] = df_test['floor'] / df_test['max_floor'].astype(float)\n",
    "df_test['rel_kitch_sq'] = df_test['kitch_sq'] / df_test['full_sq'].astype(float)"
   ]
  },
  {
   "cell_type": "markdown",
   "metadata": {},
   "source": [
    "### Check if there is no Null Values."
   ]
  },
  {
   "cell_type": "code",
   "execution_count": 601,
   "metadata": {},
   "outputs": [
    {
     "name": "stdout",
     "output_type": "stream",
     "text": [
      "2\n",
      "1\n"
     ]
    }
   ],
   "source": [
    "print(sum(df_train.isnull().sum() != 0))\n",
    "print(sum(df_test.isnull().sum() != 0))"
   ]
  },
  {
   "cell_type": "markdown",
   "metadata": {},
   "source": [
    "### Replace by 0 when we divide by 0"
   ]
  },
  {
   "cell_type": "code",
   "execution_count": 602,
   "metadata": {},
   "outputs": [
    {
     "name": "stdout",
     "output_type": "stream",
     "text": [
      "0\n",
      "0\n"
     ]
    }
   ],
   "source": [
    "df_train[\"rel_floor\"].fillna(0, inplace=True)\n",
    "df_train[\"rel_kitch_sq\"].fillna(0, inplace=True)\n",
    "\n",
    "df_test[\"rel_floor\"].fillna(0, inplace=True)\n",
    "df_test[\"rel_kitch_sq\"].fillna(0, inplace=True)\n",
    "\n",
    "print(sum(df_train.isnull().sum() != 0))\n",
    "print(sum(df_test.isnull().sum() != 0))"
   ]
  },
  {
   "cell_type": "code",
   "execution_count": 299,
   "metadata": {
    "collapsed": true
   },
   "outputs": [],
   "source": [
    "df_train.to_csv('./final_train.csv', index=False)\n",
    "df_test.to_csv('./final_test.csv', index=False)"
   ]
  },
  {
   "cell_type": "markdown",
   "metadata": {},
   "source": [
    "# 4) Making Predictions"
   ]
  },
  {
   "cell_type": "code",
   "execution_count": 463,
   "metadata": {
    "collapsed": true
   },
   "outputs": [],
   "source": [
    "df_train = pd.read_csv('./final_train.csv')\n",
    "df_test = pd.read_csv('./final_test.csv')"
   ]
  },
  {
   "cell_type": "markdown",
   "metadata": {},
   "source": [
    "# TRAINING XGBoost\n",
    "## Split Features and Target "
   ]
  },
  {
   "cell_type": "code",
   "execution_count": 603,
   "metadata": {
    "collapsed": true
   },
   "outputs": [],
   "source": [
    "X = df_train.drop(['price_doc', 'timestamp', 'id'], axis=1)\n",
    "Y = np.log(df_train.price_doc)"
   ]
  },
  {
   "cell_type": "code",
   "execution_count": 31,
   "metadata": {},
   "outputs": [
    {
     "name": "stderr",
     "output_type": "stream",
     "text": [
      "/Users/comalada/anaconda/lib/python3.5/site-packages/sklearn/cross_validation.py:44: DeprecationWarning: This module was deprecated in version 0.18 in favor of the model_selection module into which all the refactored classes and functions are moved. Also note that the interface of the new CV iterators are different from that of this module. This module will be removed in 0.20.\n",
      "  \"This module will be removed in 0.20.\", DeprecationWarning)\n",
      "/Users/comalada/anaconda/lib/python3.5/site-packages/sklearn/grid_search.py:43: DeprecationWarning: This module was deprecated in version 0.18 in favor of the model_selection module into which all the refactored classes and functions are moved. This module will be removed in 0.20.\n",
      "  DeprecationWarning)\n"
     ]
    }
   ],
   "source": [
    "import xgboost as xgb\n",
    "from xgboost.sklearn import XGBRegressor\n",
    "from sklearn.grid_search import GridSearchCV\n",
    "from sklearn.model_selection import cross_val_score\n",
    "from sklearn.metrics import mean_squared_error\n",
    "from math import sqrt"
   ]
  },
  {
   "cell_type": "markdown",
   "metadata": {},
   "source": [
    "## Split Train and Test (80/20)"
   ]
  },
  {
   "cell_type": "code",
   "execution_count": 604,
   "metadata": {
    "collapsed": true
   },
   "outputs": [],
   "source": [
    "from sklearn.model_selection import train_test_split\n",
    "X_train, X_validation, Y_train, Y_validation = train_test_split(X, Y, random_state=42, test_size=.20)"
   ]
  },
  {
   "cell_type": "markdown",
   "metadata": {},
   "source": [
    "## Cross Validation : Model Tuning"
   ]
  },
  {
   "cell_type": "code",
   "execution_count": 605,
   "metadata": {
    "collapsed": true
   },
   "outputs": [],
   "source": [
    "params_tuning = {\n",
    "    'max_depth': [6],\n",
    "    'min_child_weight': [5],\n",
    "    'colsample_bytree': [0.8],\n",
    "    'subsample': [0.7, 0.8],\n",
    "    'learning_rate': [0.07]\n",
    "}\n",
    "\n",
    "xgb_params = {\n",
    "    'eta': 0.05,\n",
    "    'max_depth': 6,\n",
    "    'min_child_weight': 5,\n",
    "    #'subsample': 0.7,\n",
    "    #'colsample_bytree': 0.7,\n",
    "    'objective': 'reg:linear',\n",
    "    'eval_metric': 'rmse',\n",
    "    'silent': 1,\n",
    "    'n_estimators': 100\n",
    "        }"
   ]
  },
  {
   "cell_type": "code",
   "execution_count": 606,
   "metadata": {},
   "outputs": [
    {
     "data": {
      "text/plain": [
       "GridSearchCV(cv=3, error_score='raise',\n",
       "       estimator=XGBRegressor(base_score=0.5, booster='gbtree', colsample_bylevel=1,\n",
       "       colsample_bytree=1, gamma=0, learning_rate=0.1, max_delta_step=0,\n",
       "       max_depth={'eta': 0.05, 'silent': 1, 'min_child_weight': 5, 'n_estimators': 100, 'eval_metric': 'rmse', 'objective': 'reg:linear', 'max_depth': 6},\n",
       "       min_child_weight=1, missing=None, n_estimators=100, nthread=-1,\n",
       "       objective='reg:linear', reg_alpha=0, reg_lambda=1,\n",
       "       scale_pos_weight=1, seed=0, silent=True, subsample=1),\n",
       "       fit_params={}, iid=True, n_jobs=1,\n",
       "       param_grid={'learning_rate': [0.07], 'subsample': [0.7, 0.8], 'min_child_weight': [5], 'colsample_bytree': [0.8], 'max_depth': [6]},\n",
       "       pre_dispatch='2*n_jobs', refit=True, scoring=None, verbose=0)"
      ]
     },
     "execution_count": 606,
     "metadata": {},
     "output_type": "execute_result"
    }
   ],
   "source": [
    "gridsearch_xgb = GridSearchCV(xgb.XGBRegressor(xgb_params), params_tuning, cv = 3) \n",
    "gridsearch_xgb.fit(X, Y)"
   ]
  },
  {
   "cell_type": "code",
   "execution_count": 607,
   "metadata": {
    "scrolled": true
   },
   "outputs": [
    {
     "data": {
      "text/plain": [
       "[mean: 0.36263, std: 0.04935, params: {'subsample': 0.7, 'max_depth': 6, 'min_child_weight': 5, 'learning_rate': 0.07, 'colsample_bytree': 0.8},\n",
       " mean: 0.36345, std: 0.04780, params: {'subsample': 0.8, 'max_depth': 6, 'min_child_weight': 5, 'learning_rate': 0.07, 'colsample_bytree': 0.8}]"
      ]
     },
     "execution_count": 607,
     "metadata": {},
     "output_type": "execute_result"
    }
   ],
   "source": [
    "gridsearch_xgb.grid_scores_"
   ]
  },
  {
   "cell_type": "code",
   "execution_count": 608,
   "metadata": {},
   "outputs": [
    {
     "data": {
      "text/plain": [
       "{'colsample_bytree': 0.8,\n",
       " 'learning_rate': 0.07,\n",
       " 'max_depth': 6,\n",
       " 'min_child_weight': 5,\n",
       " 'subsample': 0.8}"
      ]
     },
     "execution_count": 608,
     "metadata": {},
     "output_type": "execute_result"
    }
   ],
   "source": [
    "gridsearch_xgb.best_params_"
   ]
  },
  {
   "cell_type": "code",
   "execution_count": 609,
   "metadata": {},
   "outputs": [
    {
     "data": {
      "text/plain": [
       "0.3634474830780685"
      ]
     },
     "execution_count": 609,
     "metadata": {},
     "output_type": "execute_result"
    }
   ],
   "source": [
    "gridsearch_xgb.best_score_"
   ]
  },
  {
   "cell_type": "code",
   "execution_count": 610,
   "metadata": {
    "collapsed": true
   },
   "outputs": [],
   "source": [
    "y_predicted = gridsearch_xgb.best_estimator_.predict(X_validation)"
   ]
  },
  {
   "cell_type": "code",
   "execution_count": 611,
   "metadata": {},
   "outputs": [
    {
     "name": "stdout",
     "output_type": "stream",
     "text": [
      "0.41184794670916325\n"
     ]
    }
   ],
   "source": [
    "RMSE = sqrt(mean_squared_error(Y_validation, y_predicted))\n",
    "print(RMSE)"
   ]
  },
  {
   "cell_type": "markdown",
   "metadata": {},
   "source": [
    "Best Score : 0.40898454506531656"
   ]
  },
  {
   "cell_type": "markdown",
   "metadata": {},
   "source": [
    "## Boost Iteration"
   ]
  },
  {
   "cell_type": "code",
   "execution_count": 612,
   "metadata": {
    "collapsed": true
   },
   "outputs": [],
   "source": [
    "df_columns = X.columns\n",
    "dfinal = xgb.DMatrix(X, Y, feature_names=df_columns)\n",
    "dtrain = xgb.DMatrix(X_train, Y_train, feature_names=df_columns)\n",
    "dvalidation = xgb.DMatrix(X_validation, Y_validation, feature_names=df_columns)"
   ]
  },
  {
   "cell_type": "code",
   "execution_count": 613,
   "metadata": {
    "collapsed": true
   },
   "outputs": [],
   "source": [
    "xgb_params = {\n",
    "    'eta': 0.07,\n",
    "    'max_depth': 6,\n",
    "    'min_child_weight': 5,\n",
    "    'subsample': 0.8,\n",
    "    'colsample_bytree': 0.8,\n",
    "    'objective': 'reg:linear',\n",
    "    'eval_metric': 'rmse',\n",
    "    'silent': 1\n",
    "}"
   ]
  },
  {
   "cell_type": "code",
   "execution_count": 614,
   "metadata": {},
   "outputs": [
    {
     "name": "stdout",
     "output_type": "stream",
     "text": [
      "[0]\tvalidation-rmse:14.0581\n",
      "Will train until validation-rmse hasn't improved in 20 rounds.\n",
      "[10]\tvalidation-rmse:6.81773\n",
      "[20]\tvalidation-rmse:3.3258\n",
      "[30]\tvalidation-rmse:1.6609\n",
      "[40]\tvalidation-rmse:0.898867\n",
      "[50]\tvalidation-rmse:0.588626\n",
      "[60]\tvalidation-rmse:0.487707\n",
      "[70]\tvalidation-rmse:0.459179\n",
      "[80]\tvalidation-rmse:0.451354\n",
      "[90]\tvalidation-rmse:0.448678\n",
      "[100]\tvalidation-rmse:0.448025\n",
      "[110]\tvalidation-rmse:0.447272\n",
      "[120]\tvalidation-rmse:0.447455\n",
      "[130]\tvalidation-rmse:0.446794\n",
      "[140]\tvalidation-rmse:0.44651\n",
      "[150]\tvalidation-rmse:0.446463\n",
      "[160]\tvalidation-rmse:0.446241\n",
      "[170]\tvalidation-rmse:0.446155\n",
      "[180]\tvalidation-rmse:0.44628\n",
      "[190]\tvalidation-rmse:0.446415\n",
      "Stopping. Best iteration:\n",
      "[175]\tvalidation-rmse:0.446081\n",
      "\n"
     ]
    }
   ],
   "source": [
    "model_xgb = xgb.train(xgb_params, dtrain, num_boost_round=1000, early_stopping_rounds=20,\n",
    "                   evals=[(dvalidation, 'validation')], verbose_eval=10)"
   ]
  },
  {
   "cell_type": "code",
   "execution_count": 615,
   "metadata": {
    "collapsed": true
   },
   "outputs": [],
   "source": [
    "num_boost_round = model_xgb.best_iteration"
   ]
  },
  {
   "cell_type": "code",
   "execution_count": 616,
   "metadata": {},
   "outputs": [
    {
     "data": {
      "text/plain": [
       "<matplotlib.axes._subplots.AxesSubplot at 0x111388ba8>"
      ]
     },
     "execution_count": 616,
     "metadata": {},
     "output_type": "execute_result"
    },
    {
     "data": {
      "image/png": "[encoded data removed]",
      "text/plain": [
       "<matplotlib.figure.Figure at 0x11384aa90>"
      ]
     },
     "metadata": {},
     "output_type": "display_data"
    }
   ],
   "source": [
    "#watchlist = [(dtrain, 'train'), (dvalidation, 'eval')]\n",
    "\n",
    "\n",
    "final_model_xgb = xgb.train(xgb_params, dfinal, num_boost_round = num_boost_round)\n",
    "\n",
    "\n",
    "fig, ax = plt.subplots(1, 1, figsize=(8, 10))\n",
    "xgb.plot_importance(model_xgb, max_num_features=50, height=0.5, ax = ax)"
   ]
  },
  {
   "cell_type": "markdown",
   "metadata": {},
   "source": [
    "## Examine if there there is Overfitting "
   ]
  },
  {
   "cell_type": "code",
   "execution_count": 617,
   "metadata": {},
   "outputs": [
    {
     "name": "stdout",
     "output_type": "stream",
     "text": [
      "0.3861757706757739\n"
     ]
    }
   ],
   "source": [
    "#Validation Set\n",
    "y_predicted = final_model_xgb.predict(dvalidation)\n",
    "RMSE = sqrt(mean_squared_error(Y_validation, y_predicted))\n",
    "print(RMSE)"
   ]
  },
  {
   "cell_type": "code",
   "execution_count": 618,
   "metadata": {},
   "outputs": [
    {
     "name": "stdout",
     "output_type": "stream",
     "text": [
      "0.3885510253860355\n"
     ]
    }
   ],
   "source": [
    "#Train Set\n",
    "y_predicted = final_model_xgb.predict(dtrain)\n",
    "RMSE = sqrt(mean_squared_error(Y_train, y_predicted))\n",
    "print(RMSE)"
   ]
  },
  {
   "cell_type": "markdown",
   "metadata": {},
   "source": [
    " # Submission File"
   ]
  },
  {
   "cell_type": "code",
   "execution_count": 619,
   "metadata": {},
   "outputs": [
    {
     "name": "stdout",
     "output_type": "stream",
     "text": [
      "Original predictions are: \n",
      " [ 15.50947571  15.96798325  15.51424122  15.60823727  15.48534298] \n",
      "\n",
      "Final predictions are: \n",
      " [ 5441012.5  8606112.   5467003.5  6005806.   5311277.5]\n"
     ]
    }
   ],
   "source": [
    "#Get the Id for the submission file\n",
    "id_test = df_test.id\n",
    "\n",
    "df_test = df_test.drop(['timestamp','id'], axis=1)\n",
    "dtest = xgb.DMatrix(df_test)\n",
    "\n",
    "Y_pred = final_model_xgb.predict(dtest)\n",
    "\n",
    "#Transform the Prediction to the correct form : we reverse Log() with Exp() \n",
    "final_predictions = np.exp(Y_pred)\n",
    "\n",
    "print (\"Original predictions are: \\n\", Y_pred[:5], \"\\n\")\n",
    "print (\"Final predictions are: \\n\", final_predictions[:5])\n",
    "\n",
    "df_submission = pd.DataFrame({'id': id_test, 'price_doc': final_predictions})\n",
    "df_submission.to_csv('submission.csv', index=False)"
   ]
  }
 ],
 "metadata": {
  "anaconda-cloud": {},
  "kernelspec": {
   "display_name": "Python [conda root]",
   "language": "python",
   "name": "conda-root-py"
  },
  "language_info": {
   "codemirror_mode": {
    "name": "ipython",
    "version": 3
   },
   "file_extension": ".py",
   "mimetype": "text/x-python",
   "name": "python",
   "nbconvert_exporter": "python",
   "pygments_lexer": "ipython3",
   "version": "3.5.2"
  }
 },
 "nbformat": 4,
 "nbformat_minor": 1
}
